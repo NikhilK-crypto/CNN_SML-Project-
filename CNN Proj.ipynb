{
 "cells": [
  {
   "cell_type": "code",
   "execution_count": 51,
   "id": "fe97216e",
   "metadata": {},
   "outputs": [],
   "source": [
    "import os \n",
    "import pandas as pd \n",
    "import numpy as np \n",
    "import matplotlib.pyplot as plt \n",
    "import seaborn as sb \n",
    "from imutils import paths\n",
    "from PIL import Image\n",
    "from sklearn.model_selection import train_test_split\n",
    "from sklearn.metrics import accuracy_score, classification_report, f1_score"
   ]
  },
  {
   "cell_type": "code",
   "execution_count": 2,
   "id": "a172c525",
   "metadata": {},
   "outputs": [],
   "source": [
    "import tensorflow as tf \n",
    "from tensorflow import keras \n",
    "import cv2\n",
    "from tensorflow.keras.models import Sequential\n",
    "from tensorflow.keras.layers import Conv2D,Dense,MaxPooling2D,Flatten, Dropout,BatchNormalization\n",
    "from keras.preprocessing.image import ImageDataGenerator"
   ]
  },
  {
   "cell_type": "code",
   "execution_count": null,
   "id": "85d19e2c",
   "metadata": {},
   "outputs": [],
   "source": []
  },
  {
   "cell_type": "code",
   "execution_count": 3,
   "id": "3ee947d2",
   "metadata": {},
   "outputs": [],
   "source": [
    "data_directory = 'E:/Northeastern Grad Studies/Fall 22 - Semester 1/SML - Prof. Honyang Zang/german_roadsign/'\n",
    "test_path = \"E:/Northeastern Grad Studies/Fall 22 - Semester 1/SML - Prof. Honyang Zang/german_roadsign/Test/\""
   ]
  },
  {
   "cell_type": "code",
   "execution_count": 5,
   "id": "6e5b045c",
   "metadata": {},
   "outputs": [
    {
     "data": {
      "text/plain": [
       "43"
      ]
     },
     "execution_count": 5,
     "metadata": {},
     "output_type": "execute_result"
    }
   ],
   "source": [
    "train_dir= 'E:/Northeastern Grad Studies/Fall 22 - Semester 1/SML - Prof. Honyang Zang/german_roadsign/Train'\n",
    "len(os.listdir(train_dir))\n",
    "# Therefore there are 42 classes present in Training dataset "
   ]
  },
  {
   "cell_type": "code",
   "execution_count": 8,
   "id": "6db7538f",
   "metadata": {},
   "outputs": [
    {
     "data": {
      "text/plain": [
       "12630"
      ]
     },
     "execution_count": 8,
     "metadata": {},
     "output_type": "execute_result"
    }
   ],
   "source": [
    "len(os.listdir(test_path))"
   ]
  },
  {
   "cell_type": "code",
   "execution_count": 5,
   "id": "7dfd2272",
   "metadata": {
    "scrolled": false
   },
   "outputs": [
    {
     "name": "stdout",
     "output_type": "stream",
     "text": [
      "{0: 210, 1: 2220, 2: 2250, 3: 1410, 4: 1980, 5: 1860, 6: 420, 7: 1440, 8: 1410, 9: 1470, 10: 2010, 11: 1320, 12: 2100, 13: 2160, 14: 780, 15: 630, 16: 420, 17: 1110, 18: 1200, 19: 210, 20: 360, 21: 330, 22: 390, 23: 510, 24: 270, 25: 1500, 26: 600, 27: 240, 28: 540, 29: 270, 30: 450, 31: 780, 32: 240, 33: 689, 34: 420, 35: 1200, 36: 390, 37: 210, 38: 2070, 39: 300, 40: 360, 41: 240, 42: 240}\n"
     ]
    }
   ],
   "source": [
    "dic={}\n",
    "for i in os.listdir(train_dir):\n",
    "    train_class = len(os.listdir(train_dir+'/'+i))\n",
    "    dic[int(i)] =  train_class\n",
    "    \n",
    "dic = dict(sorted(dic.items()))\n",
    "print(dic)"
   ]
  },
  {
   "cell_type": "code",
   "execution_count": 17,
   "id": "54e8128a",
   "metadata": {
    "scrolled": true
   },
   "outputs": [
    {
     "data": {
      "text/plain": [
       "39209"
      ]
     },
     "execution_count": 17,
     "metadata": {},
     "output_type": "execute_result"
    }
   ],
   "source": [
    "sum(dic.values())"
   ]
  },
  {
   "cell_type": "code",
   "execution_count": 6,
   "id": "c4637930",
   "metadata": {
    "scrolled": false
   },
   "outputs": [
    {
     "data": {
      "image/png": "[encoded data removed]",
      "text/plain": [
       "<Figure size 800x400 with 1 Axes>"
      ]
     },
     "metadata": {},
     "output_type": "display_data"
    }
   ],
   "source": [
    "plt.figure(figsize=(8,4))\n",
    "plt.bar(dic.keys(),dic.values())\n",
    "plt.xticks(np.arange(0,43,1),rotation = 'vertical')\n",
    "plt.show()"
   ]
  },
  {
   "cell_type": "code",
   "execution_count": 32,
   "id": "0c71437f",
   "metadata": {},
   "outputs": [],
   "source": [
    "image_data = []\n",
    "image_label = []\n",
    "\n",
    "data_path = \"E:/Northeastern Grad Studies/Fall 22 - Semester 1/SML - Prof. Honyang Zang/german_roadsign/Train/\"\n",
    "for i in os.listdir(train_dir):\n",
    "\n",
    "    for j in os.listdir(train_dir + '/' + str(i)):\n",
    "\n",
    "        path = \"E:/Northeastern Grad Studies/Fall 22 - Semester 1/SML - Prof. Honyang Zang/german_roadsign/Train/\" + str(i) + \"/\" + j\n",
    "\n",
    "        img = cv2.imread(path)\n",
    "        img = Image.fromarray(img, 'RGB').resize((64, 64))\n",
    "        img = np.array(img)\n",
    "\n",
    "        image_data.append(img)\n",
    "        image_label.append(i)\n",
    "        \n",
    "image_data_64 = np.array(image_data)\n",
    "image_label_64 = np.array(image_label)"
   ]
  },
  {
   "cell_type": "code",
   "execution_count": 206,
   "id": "1f551aa3",
   "metadata": {},
   "outputs": [],
   "source": [
    "#Saving the Data \n",
    "# np.save('image_data',image_data)\n",
    "# np.save('image_label',image_label)"
   ]
  },
  {
   "cell_type": "code",
   "execution_count": 33,
   "id": "c434b885",
   "metadata": {},
   "outputs": [],
   "source": [
    "#saving 64 size image in data \n",
    "# np.save('image_data_64',image_data_64)\n",
    "# np.save('image_label_64',image_label_64)"
   ]
  },
  {
   "cell_type": "code",
   "execution_count": 6,
   "id": "0e2320ce",
   "metadata": {},
   "outputs": [],
   "source": [
    "image_data = np.load(\"D:/anaconda3/My_Projects/NORTHEASTERN UNIVERSITY (ASSIGNMENTS & OTHER WORK)/SML/CNN SML Project/image_data_64.npy\")\n",
    "image_label = np.load(\"D:/anaconda3/My_Projects/NORTHEASTERN UNIVERSITY (ASSIGNMENTS & OTHER WORK)/SML/CNN SML Project/image_label_64.npy\")"
   ]
  },
  {
   "cell_type": "code",
   "execution_count": 7,
   "id": "9c194fbe",
   "metadata": {},
   "outputs": [],
   "source": [
    "x_train,x_test,y_train,y_test = train_test_split(image_data, image_label,test_size=0.2,random_state=10,stratify=image_label)"
   ]
  },
  {
   "cell_type": "code",
   "execution_count": 8,
   "id": "6c63a87e",
   "metadata": {
    "scrolled": true
   },
   "outputs": [
    {
     "data": {
      "text/plain": [
       "2     450\n",
       "1     444\n",
       "13    432\n",
       "12    420\n",
       "38    414\n",
       "10    402\n",
       "4     396\n",
       "5     372\n",
       "25    300\n",
       "9     294\n",
       "7     288\n",
       "3     282\n",
       "8     282\n",
       "11    264\n",
       "18    240\n",
       "35    240\n",
       "17    222\n",
       "14    156\n",
       "31    156\n",
       "33    138\n",
       "15    126\n",
       "26    120\n",
       "28    108\n",
       "23    102\n",
       "30     90\n",
       "16     84\n",
       "6      84\n",
       "34     84\n",
       "36     78\n",
       "22     78\n",
       "20     72\n",
       "40     72\n",
       "21     66\n",
       "39     60\n",
       "29     54\n",
       "24     54\n",
       "41     48\n",
       "42     48\n",
       "32     48\n",
       "27     48\n",
       "37     42\n",
       "19     42\n",
       "0      42\n",
       "dtype: int64"
      ]
     },
     "execution_count": 8,
     "metadata": {},
     "output_type": "execute_result"
    }
   ],
   "source": [
    "pd.DataFrame(y_test).value_counts()"
   ]
  },
  {
   "cell_type": "code",
   "execution_count": 9,
   "id": "f5a860b1",
   "metadata": {
    "scrolled": true
   },
   "outputs": [
    {
     "data": {
      "text/plain": [
       "<matplotlib.image.AxesImage at 0x1e9ea84b9d0>"
      ]
     },
     "execution_count": 9,
     "metadata": {},
     "output_type": "execute_result"
    },
    {
     "data": {
      "image/png": "[encoded data removed]",
      "text/plain": [
       "<Figure size 640x480 with 1 Axes>"
      ]
     },
     "metadata": {},
     "output_type": "display_data"
    }
   ],
   "source": [
    "plt.imshow(x_train[0])"
   ]
  },
  {
   "cell_type": "code",
   "execution_count": 26,
   "id": "4b9d508a",
   "metadata": {
    "scrolled": true
   },
   "outputs": [],
   "source": [
    "# doing onehot encoding of output \n",
    "y_train = keras.utils.to_categorical(y_train)\n",
    "y_test = keras.utils.to_categorical(y_test)\n",
    "\n",
    "x_train = x_train/255\n",
    "x_test = x_test/255"
   ]
  },
  {
   "cell_type": "code",
   "execution_count": null,
   "id": "0a591149",
   "metadata": {},
   "outputs": [],
   "source": [
    "#ImageDataGenerator()"
   ]
  },
  {
   "cell_type": "code",
   "execution_count": 217,
   "id": "225c7ce7",
   "metadata": {},
   "outputs": [],
   "source": [
    "# Model building "
   ]
  },
  {
   "cell_type": "code",
   "execution_count": 11,
   "id": "d707780b",
   "metadata": {},
   "outputs": [],
   "source": [
    "model1 = Sequential([\n",
    "    Conv2D(filters=64,kernel_size=[5,5],activation='relu',padding='same'),\n",
    "    MaxPooling2D(pool_size=(2,2)),\n",
    "    BatchNormalization(),\n",
    "    Conv2D(filters=128, kernel_size=[3,3],activation='relu',padding='same'),\n",
    "    MaxPooling2D(pool_size=(2,2)),\n",
    "    BatchNormalization(),\n",
    "    \n",
    "    Flatten(),\n",
    "    Dense(500, activation='relu'),\n",
    "    Dropout(0.2),\n",
    "    Dense(43,activation='softmax')  \n",
    "])\n",
    "\n",
    "model1.compile(optimizer=keras.optimizers.Adam(), loss='categorical_crossentropy',metrics='accuracy')"
   ]
  },
  {
   "cell_type": "code",
   "execution_count": 12,
   "id": "86e4d46d",
   "metadata": {},
   "outputs": [],
   "source": [
    "datagen = ImageDataGenerator(\n",
    "    rotation_range=15,\n",
    "    width_shift_range=0.1,\n",
    "    height_shift_range=0.1,\n",
    "    shear_range=0.10,\n",
    "    zoom_range=0.15,\n",
    "    fill_mode='nearest')"
   ]
  },
  {
   "cell_type": "code",
   "execution_count": 13,
   "id": "f58a3de7",
   "metadata": {
    "scrolled": true
   },
   "outputs": [
    {
     "name": "stdout",
     "output_type": "stream",
     "text": [
      "Epoch 1/10\n",
      "981/981 [==============================] - 257s 261ms/step - loss: 2.2693 - accuracy: 0.4019 - val_loss: 0.9140 - val_accuracy: 0.7081\n",
      "Epoch 2/10\n",
      "981/981 [==============================] - 280s 285ms/step - loss: 1.1259 - accuracy: 0.6332 - val_loss: 0.4925 - val_accuracy: 0.8359\n",
      "Epoch 3/10\n",
      "981/981 [==============================] - 277s 283ms/step - loss: 0.7315 - accuracy: 0.7630 - val_loss: 1.8605 - val_accuracy: 0.7622\n",
      "Epoch 4/10\n",
      "981/981 [==============================] - 274s 280ms/step - loss: 0.5215 - accuracy: 0.8330 - val_loss: 0.1660 - val_accuracy: 0.9484\n",
      "Epoch 5/10\n",
      "981/981 [==============================] - 275s 280ms/step - loss: 0.3955 - accuracy: 0.8768 - val_loss: 0.0913 - val_accuracy: 0.9708\n",
      "Epoch 6/10\n",
      "981/981 [==============================] - 274s 279ms/step - loss: 0.3236 - accuracy: 0.9010 - val_loss: 0.0897 - val_accuracy: 0.9726\n",
      "Epoch 7/10\n",
      "981/981 [==============================] - 271s 276ms/step - loss: 0.3203 - accuracy: 0.9062 - val_loss: 0.0733 - val_accuracy: 0.9792\n",
      "Epoch 8/10\n",
      "981/981 [==============================] - 278s 283ms/step - loss: 0.2519 - accuracy: 0.9274 - val_loss: 0.0638 - val_accuracy: 0.9782\n",
      "Epoch 9/10\n",
      "981/981 [==============================] - 272s 277ms/step - loss: 0.2582 - accuracy: 0.9243 - val_loss: 84.5106 - val_accuracy: 0.4855\n",
      "Epoch 10/10\n",
      "110/981 [==>...........................] - ETA: 3:47 - loss: 0.2737 - accuracy: 0.9213"
     ]
    },
    {
     "ename": "KeyboardInterrupt",
     "evalue": "",
     "output_type": "error",
     "traceback": [
      "\u001b[1;31m---------------------------------------------------------------------------\u001b[0m",
      "\u001b[1;31mKeyboardInterrupt\u001b[0m                         Traceback (most recent call last)",
      "Input \u001b[1;32mIn [13]\u001b[0m, in \u001b[0;36m<cell line: 1>\u001b[1;34m()\u001b[0m\n\u001b[1;32m----> 1\u001b[0m \u001b[43mmodel1\u001b[49m\u001b[38;5;241;43m.\u001b[39;49m\u001b[43mfit\u001b[49m\u001b[43m(\u001b[49m\u001b[43mdatagen\u001b[49m\u001b[38;5;241;43m.\u001b[39;49m\u001b[43mflow\u001b[49m\u001b[43m(\u001b[49m\u001b[43mx_train\u001b[49m\u001b[43m,\u001b[49m\u001b[43my_train\u001b[49m\u001b[43m,\u001b[49m\u001b[43mbatch_size\u001b[49m\u001b[38;5;241;43m=\u001b[39;49m\u001b[38;5;241;43m32\u001b[39;49m\u001b[43m)\u001b[49m\u001b[43m,\u001b[49m\u001b[43mepochs\u001b[49m\u001b[38;5;241;43m=\u001b[39;49m\u001b[38;5;241;43m10\u001b[39;49m\u001b[43m,\u001b[49m\u001b[43mvalidation_data\u001b[49m\u001b[43m \u001b[49m\u001b[38;5;241;43m=\u001b[39;49m\u001b[43m \u001b[49m\u001b[43m(\u001b[49m\u001b[43mx_test\u001b[49m\u001b[43m,\u001b[49m\u001b[43my_test\u001b[49m\u001b[43m)\u001b[49m\u001b[43m)\u001b[49m\n",
      "File \u001b[1;32mD:\\anaconda3\\lib\\site-packages\\keras\\utils\\traceback_utils.py:65\u001b[0m, in \u001b[0;36mfilter_traceback.<locals>.error_handler\u001b[1;34m(*args, **kwargs)\u001b[0m\n\u001b[0;32m     63\u001b[0m filtered_tb \u001b[38;5;241m=\u001b[39m \u001b[38;5;28;01mNone\u001b[39;00m\n\u001b[0;32m     64\u001b[0m \u001b[38;5;28;01mtry\u001b[39;00m:\n\u001b[1;32m---> 65\u001b[0m     \u001b[38;5;28;01mreturn\u001b[39;00m fn(\u001b[38;5;241m*\u001b[39margs, \u001b[38;5;241m*\u001b[39m\u001b[38;5;241m*\u001b[39mkwargs)\n\u001b[0;32m     66\u001b[0m \u001b[38;5;28;01mexcept\u001b[39;00m \u001b[38;5;167;01mException\u001b[39;00m \u001b[38;5;28;01mas\u001b[39;00m e:\n\u001b[0;32m     67\u001b[0m     filtered_tb \u001b[38;5;241m=\u001b[39m _process_traceback_frames(e\u001b[38;5;241m.\u001b[39m__traceback__)\n",
      "File \u001b[1;32mD:\\anaconda3\\lib\\site-packages\\keras\\engine\\training.py:1564\u001b[0m, in \u001b[0;36mModel.fit\u001b[1;34m(self, x, y, batch_size, epochs, verbose, callbacks, validation_split, validation_data, shuffle, class_weight, sample_weight, initial_epoch, steps_per_epoch, validation_steps, validation_batch_size, validation_freq, max_queue_size, workers, use_multiprocessing)\u001b[0m\n\u001b[0;32m   1556\u001b[0m \u001b[38;5;28;01mwith\u001b[39;00m tf\u001b[38;5;241m.\u001b[39mprofiler\u001b[38;5;241m.\u001b[39mexperimental\u001b[38;5;241m.\u001b[39mTrace(\n\u001b[0;32m   1557\u001b[0m     \u001b[38;5;124m\"\u001b[39m\u001b[38;5;124mtrain\u001b[39m\u001b[38;5;124m\"\u001b[39m,\n\u001b[0;32m   1558\u001b[0m     epoch_num\u001b[38;5;241m=\u001b[39mepoch,\n\u001b[1;32m   (...)\u001b[0m\n\u001b[0;32m   1561\u001b[0m     _r\u001b[38;5;241m=\u001b[39m\u001b[38;5;241m1\u001b[39m,\n\u001b[0;32m   1562\u001b[0m ):\n\u001b[0;32m   1563\u001b[0m     callbacks\u001b[38;5;241m.\u001b[39mon_train_batch_begin(step)\n\u001b[1;32m-> 1564\u001b[0m     tmp_logs \u001b[38;5;241m=\u001b[39m \u001b[38;5;28;43mself\u001b[39;49m\u001b[38;5;241;43m.\u001b[39;49m\u001b[43mtrain_function\u001b[49m\u001b[43m(\u001b[49m\u001b[43miterator\u001b[49m\u001b[43m)\u001b[49m\n\u001b[0;32m   1565\u001b[0m     \u001b[38;5;28;01mif\u001b[39;00m data_handler\u001b[38;5;241m.\u001b[39mshould_sync:\n\u001b[0;32m   1566\u001b[0m         context\u001b[38;5;241m.\u001b[39masync_wait()\n",
      "File \u001b[1;32mD:\\anaconda3\\lib\\site-packages\\tensorflow\\python\\util\\traceback_utils.py:150\u001b[0m, in \u001b[0;36mfilter_traceback.<locals>.error_handler\u001b[1;34m(*args, **kwargs)\u001b[0m\n\u001b[0;32m    148\u001b[0m filtered_tb \u001b[38;5;241m=\u001b[39m \u001b[38;5;28;01mNone\u001b[39;00m\n\u001b[0;32m    149\u001b[0m \u001b[38;5;28;01mtry\u001b[39;00m:\n\u001b[1;32m--> 150\u001b[0m   \u001b[38;5;28;01mreturn\u001b[39;00m fn(\u001b[38;5;241m*\u001b[39margs, \u001b[38;5;241m*\u001b[39m\u001b[38;5;241m*\u001b[39mkwargs)\n\u001b[0;32m    151\u001b[0m \u001b[38;5;28;01mexcept\u001b[39;00m \u001b[38;5;167;01mException\u001b[39;00m \u001b[38;5;28;01mas\u001b[39;00m e:\n\u001b[0;32m    152\u001b[0m   filtered_tb \u001b[38;5;241m=\u001b[39m _process_traceback_frames(e\u001b[38;5;241m.\u001b[39m__traceback__)\n",
      "File \u001b[1;32mD:\\anaconda3\\lib\\site-packages\\tensorflow\\python\\eager\\def_function.py:915\u001b[0m, in \u001b[0;36mFunction.__call__\u001b[1;34m(self, *args, **kwds)\u001b[0m\n\u001b[0;32m    912\u001b[0m compiler \u001b[38;5;241m=\u001b[39m \u001b[38;5;124m\"\u001b[39m\u001b[38;5;124mxla\u001b[39m\u001b[38;5;124m\"\u001b[39m \u001b[38;5;28;01mif\u001b[39;00m \u001b[38;5;28mself\u001b[39m\u001b[38;5;241m.\u001b[39m_jit_compile \u001b[38;5;28;01melse\u001b[39;00m \u001b[38;5;124m\"\u001b[39m\u001b[38;5;124mnonXla\u001b[39m\u001b[38;5;124m\"\u001b[39m\n\u001b[0;32m    914\u001b[0m \u001b[38;5;28;01mwith\u001b[39;00m OptionalXlaContext(\u001b[38;5;28mself\u001b[39m\u001b[38;5;241m.\u001b[39m_jit_compile):\n\u001b[1;32m--> 915\u001b[0m   result \u001b[38;5;241m=\u001b[39m \u001b[38;5;28mself\u001b[39m\u001b[38;5;241m.\u001b[39m_call(\u001b[38;5;241m*\u001b[39margs, \u001b[38;5;241m*\u001b[39m\u001b[38;5;241m*\u001b[39mkwds)\n\u001b[0;32m    917\u001b[0m new_tracing_count \u001b[38;5;241m=\u001b[39m \u001b[38;5;28mself\u001b[39m\u001b[38;5;241m.\u001b[39mexperimental_get_tracing_count()\n\u001b[0;32m    918\u001b[0m without_tracing \u001b[38;5;241m=\u001b[39m (tracing_count \u001b[38;5;241m==\u001b[39m new_tracing_count)\n",
      "File \u001b[1;32mD:\\anaconda3\\lib\\site-packages\\tensorflow\\python\\eager\\def_function.py:947\u001b[0m, in \u001b[0;36mFunction._call\u001b[1;34m(self, *args, **kwds)\u001b[0m\n\u001b[0;32m    944\u001b[0m   \u001b[38;5;28mself\u001b[39m\u001b[38;5;241m.\u001b[39m_lock\u001b[38;5;241m.\u001b[39mrelease()\n\u001b[0;32m    945\u001b[0m   \u001b[38;5;66;03m# In this case we have created variables on the first call, so we run the\u001b[39;00m\n\u001b[0;32m    946\u001b[0m   \u001b[38;5;66;03m# defunned version which is guaranteed to never create variables.\u001b[39;00m\n\u001b[1;32m--> 947\u001b[0m   \u001b[38;5;28;01mreturn\u001b[39;00m \u001b[38;5;28mself\u001b[39m\u001b[38;5;241m.\u001b[39m_stateless_fn(\u001b[38;5;241m*\u001b[39margs, \u001b[38;5;241m*\u001b[39m\u001b[38;5;241m*\u001b[39mkwds)  \u001b[38;5;66;03m# pylint: disable=not-callable\u001b[39;00m\n\u001b[0;32m    948\u001b[0m \u001b[38;5;28;01melif\u001b[39;00m \u001b[38;5;28mself\u001b[39m\u001b[38;5;241m.\u001b[39m_stateful_fn \u001b[38;5;129;01mis\u001b[39;00m \u001b[38;5;129;01mnot\u001b[39;00m \u001b[38;5;28;01mNone\u001b[39;00m:\n\u001b[0;32m    949\u001b[0m   \u001b[38;5;66;03m# Release the lock early so that multiple threads can perform the call\u001b[39;00m\n\u001b[0;32m    950\u001b[0m   \u001b[38;5;66;03m# in parallel.\u001b[39;00m\n\u001b[0;32m    951\u001b[0m   \u001b[38;5;28mself\u001b[39m\u001b[38;5;241m.\u001b[39m_lock\u001b[38;5;241m.\u001b[39mrelease()\n",
      "File \u001b[1;32mD:\\anaconda3\\lib\\site-packages\\tensorflow\\python\\eager\\function.py:2496\u001b[0m, in \u001b[0;36mFunction.__call__\u001b[1;34m(self, *args, **kwargs)\u001b[0m\n\u001b[0;32m   2493\u001b[0m \u001b[38;5;28;01mwith\u001b[39;00m \u001b[38;5;28mself\u001b[39m\u001b[38;5;241m.\u001b[39m_lock:\n\u001b[0;32m   2494\u001b[0m   (graph_function,\n\u001b[0;32m   2495\u001b[0m    filtered_flat_args) \u001b[38;5;241m=\u001b[39m \u001b[38;5;28mself\u001b[39m\u001b[38;5;241m.\u001b[39m_maybe_define_function(args, kwargs)\n\u001b[1;32m-> 2496\u001b[0m \u001b[38;5;28;01mreturn\u001b[39;00m \u001b[43mgraph_function\u001b[49m\u001b[38;5;241;43m.\u001b[39;49m\u001b[43m_call_flat\u001b[49m\u001b[43m(\u001b[49m\n\u001b[0;32m   2497\u001b[0m \u001b[43m    \u001b[49m\u001b[43mfiltered_flat_args\u001b[49m\u001b[43m,\u001b[49m\u001b[43m \u001b[49m\u001b[43mcaptured_inputs\u001b[49m\u001b[38;5;241;43m=\u001b[39;49m\u001b[43mgraph_function\u001b[49m\u001b[38;5;241;43m.\u001b[39;49m\u001b[43mcaptured_inputs\u001b[49m\u001b[43m)\u001b[49m\n",
      "File \u001b[1;32mD:\\anaconda3\\lib\\site-packages\\tensorflow\\python\\eager\\function.py:1862\u001b[0m, in \u001b[0;36mConcreteFunction._call_flat\u001b[1;34m(self, args, captured_inputs, cancellation_manager)\u001b[0m\n\u001b[0;32m   1858\u001b[0m possible_gradient_type \u001b[38;5;241m=\u001b[39m gradients_util\u001b[38;5;241m.\u001b[39mPossibleTapeGradientTypes(args)\n\u001b[0;32m   1859\u001b[0m \u001b[38;5;28;01mif\u001b[39;00m (possible_gradient_type \u001b[38;5;241m==\u001b[39m gradients_util\u001b[38;5;241m.\u001b[39mPOSSIBLE_GRADIENT_TYPES_NONE\n\u001b[0;32m   1860\u001b[0m     \u001b[38;5;129;01mand\u001b[39;00m executing_eagerly):\n\u001b[0;32m   1861\u001b[0m   \u001b[38;5;66;03m# No tape is watching; skip to running the function.\u001b[39;00m\n\u001b[1;32m-> 1862\u001b[0m   \u001b[38;5;28;01mreturn\u001b[39;00m \u001b[38;5;28mself\u001b[39m\u001b[38;5;241m.\u001b[39m_build_call_outputs(\u001b[38;5;28;43mself\u001b[39;49m\u001b[38;5;241;43m.\u001b[39;49m\u001b[43m_inference_function\u001b[49m\u001b[38;5;241;43m.\u001b[39;49m\u001b[43mcall\u001b[49m\u001b[43m(\u001b[49m\n\u001b[0;32m   1863\u001b[0m \u001b[43m      \u001b[49m\u001b[43mctx\u001b[49m\u001b[43m,\u001b[49m\u001b[43m \u001b[49m\u001b[43margs\u001b[49m\u001b[43m,\u001b[49m\u001b[43m \u001b[49m\u001b[43mcancellation_manager\u001b[49m\u001b[38;5;241;43m=\u001b[39;49m\u001b[43mcancellation_manager\u001b[49m\u001b[43m)\u001b[49m)\n\u001b[0;32m   1864\u001b[0m forward_backward \u001b[38;5;241m=\u001b[39m \u001b[38;5;28mself\u001b[39m\u001b[38;5;241m.\u001b[39m_select_forward_and_backward_functions(\n\u001b[0;32m   1865\u001b[0m     args,\n\u001b[0;32m   1866\u001b[0m     possible_gradient_type,\n\u001b[0;32m   1867\u001b[0m     executing_eagerly)\n\u001b[0;32m   1868\u001b[0m forward_function, args_with_tangents \u001b[38;5;241m=\u001b[39m forward_backward\u001b[38;5;241m.\u001b[39mforward()\n",
      "File \u001b[1;32mD:\\anaconda3\\lib\\site-packages\\tensorflow\\python\\eager\\function.py:499\u001b[0m, in \u001b[0;36m_EagerDefinedFunction.call\u001b[1;34m(self, ctx, args, cancellation_manager)\u001b[0m\n\u001b[0;32m    497\u001b[0m \u001b[38;5;28;01mwith\u001b[39;00m _InterpolateFunctionError(\u001b[38;5;28mself\u001b[39m):\n\u001b[0;32m    498\u001b[0m   \u001b[38;5;28;01mif\u001b[39;00m cancellation_manager \u001b[38;5;129;01mis\u001b[39;00m \u001b[38;5;28;01mNone\u001b[39;00m:\n\u001b[1;32m--> 499\u001b[0m     outputs \u001b[38;5;241m=\u001b[39m \u001b[43mexecute\u001b[49m\u001b[38;5;241;43m.\u001b[39;49m\u001b[43mexecute\u001b[49m\u001b[43m(\u001b[49m\n\u001b[0;32m    500\u001b[0m \u001b[43m        \u001b[49m\u001b[38;5;28;43mstr\u001b[39;49m\u001b[43m(\u001b[49m\u001b[38;5;28;43mself\u001b[39;49m\u001b[38;5;241;43m.\u001b[39;49m\u001b[43msignature\u001b[49m\u001b[38;5;241;43m.\u001b[39;49m\u001b[43mname\u001b[49m\u001b[43m)\u001b[49m\u001b[43m,\u001b[49m\n\u001b[0;32m    501\u001b[0m \u001b[43m        \u001b[49m\u001b[43mnum_outputs\u001b[49m\u001b[38;5;241;43m=\u001b[39;49m\u001b[38;5;28;43mself\u001b[39;49m\u001b[38;5;241;43m.\u001b[39;49m\u001b[43m_num_outputs\u001b[49m\u001b[43m,\u001b[49m\n\u001b[0;32m    502\u001b[0m \u001b[43m        \u001b[49m\u001b[43minputs\u001b[49m\u001b[38;5;241;43m=\u001b[39;49m\u001b[43margs\u001b[49m\u001b[43m,\u001b[49m\n\u001b[0;32m    503\u001b[0m \u001b[43m        \u001b[49m\u001b[43mattrs\u001b[49m\u001b[38;5;241;43m=\u001b[39;49m\u001b[43mattrs\u001b[49m\u001b[43m,\u001b[49m\n\u001b[0;32m    504\u001b[0m \u001b[43m        \u001b[49m\u001b[43mctx\u001b[49m\u001b[38;5;241;43m=\u001b[39;49m\u001b[43mctx\u001b[49m\u001b[43m)\u001b[49m\n\u001b[0;32m    505\u001b[0m   \u001b[38;5;28;01melse\u001b[39;00m:\n\u001b[0;32m    506\u001b[0m     outputs \u001b[38;5;241m=\u001b[39m execute\u001b[38;5;241m.\u001b[39mexecute_with_cancellation(\n\u001b[0;32m    507\u001b[0m         \u001b[38;5;28mstr\u001b[39m(\u001b[38;5;28mself\u001b[39m\u001b[38;5;241m.\u001b[39msignature\u001b[38;5;241m.\u001b[39mname),\n\u001b[0;32m    508\u001b[0m         num_outputs\u001b[38;5;241m=\u001b[39m\u001b[38;5;28mself\u001b[39m\u001b[38;5;241m.\u001b[39m_num_outputs,\n\u001b[1;32m   (...)\u001b[0m\n\u001b[0;32m    511\u001b[0m         ctx\u001b[38;5;241m=\u001b[39mctx,\n\u001b[0;32m    512\u001b[0m         cancellation_manager\u001b[38;5;241m=\u001b[39mcancellation_manager)\n",
      "File \u001b[1;32mD:\\anaconda3\\lib\\site-packages\\tensorflow\\python\\eager\\execute.py:54\u001b[0m, in \u001b[0;36mquick_execute\u001b[1;34m(op_name, num_outputs, inputs, attrs, ctx, name)\u001b[0m\n\u001b[0;32m     52\u001b[0m \u001b[38;5;28;01mtry\u001b[39;00m:\n\u001b[0;32m     53\u001b[0m   ctx\u001b[38;5;241m.\u001b[39mensure_initialized()\n\u001b[1;32m---> 54\u001b[0m   tensors \u001b[38;5;241m=\u001b[39m \u001b[43mpywrap_tfe\u001b[49m\u001b[38;5;241;43m.\u001b[39;49m\u001b[43mTFE_Py_Execute\u001b[49m\u001b[43m(\u001b[49m\u001b[43mctx\u001b[49m\u001b[38;5;241;43m.\u001b[39;49m\u001b[43m_handle\u001b[49m\u001b[43m,\u001b[49m\u001b[43m \u001b[49m\u001b[43mdevice_name\u001b[49m\u001b[43m,\u001b[49m\u001b[43m \u001b[49m\u001b[43mop_name\u001b[49m\u001b[43m,\u001b[49m\n\u001b[0;32m     55\u001b[0m \u001b[43m                                      \u001b[49m\u001b[43minputs\u001b[49m\u001b[43m,\u001b[49m\u001b[43m \u001b[49m\u001b[43mattrs\u001b[49m\u001b[43m,\u001b[49m\u001b[43m \u001b[49m\u001b[43mnum_outputs\u001b[49m\u001b[43m)\u001b[49m\n\u001b[0;32m     56\u001b[0m \u001b[38;5;28;01mexcept\u001b[39;00m core\u001b[38;5;241m.\u001b[39m_NotOkStatusException \u001b[38;5;28;01mas\u001b[39;00m e:\n\u001b[0;32m     57\u001b[0m   \u001b[38;5;28;01mif\u001b[39;00m name \u001b[38;5;129;01mis\u001b[39;00m \u001b[38;5;129;01mnot\u001b[39;00m \u001b[38;5;28;01mNone\u001b[39;00m:\n",
      "\u001b[1;31mKeyboardInterrupt\u001b[0m: "
     ]
    }
   ],
   "source": [
    "model1.fit(datagen.flow(x_train,y_train,batch_size=32),epochs=10,validation_data = (x_test,y_test))"
   ]
  },
  {
   "cell_type": "code",
   "execution_count": 15,
   "id": "41029843",
   "metadata": {},
   "outputs": [
    {
     "name": "stdout",
     "output_type": "stream",
     "text": [
      "Model: \"sequential\"\n",
      "_________________________________________________________________\n",
      " Layer (type)                Output Shape              Param #   \n",
      "=================================================================\n",
      " conv2d (Conv2D)             (None, None, None, 64)    4864      \n",
      "                                                                 \n",
      " max_pooling2d (MaxPooling2D  (None, None, None, 64)   0         \n",
      " )                                                               \n",
      "                                                                 \n",
      " batch_normalization (BatchN  (None, None, None, 64)   256       \n",
      " ormalization)                                                   \n",
      "                                                                 \n",
      " conv2d_1 (Conv2D)           (None, None, None, 128)   73856     \n",
      "                                                                 \n",
      " max_pooling2d_1 (MaxPooling  (None, None, None, 128)  0         \n",
      " 2D)                                                             \n",
      "                                                                 \n",
      " batch_normalization_1 (Batc  (None, None, None, 128)  512       \n",
      " hNormalization)                                                 \n",
      "                                                                 \n",
      " flatten (Flatten)           (None, None)              0         \n",
      "                                                                 \n",
      " dense (Dense)               (None, 500)               16384500  \n",
      "                                                                 \n",
      " dropout (Dropout)           (None, 500)               0         \n",
      "                                                                 \n",
      " dense_1 (Dense)             (None, 43)                21543     \n",
      "                                                                 \n",
      "=================================================================\n",
      "Total params: 16,485,531\n",
      "Trainable params: 16,485,147\n",
      "Non-trainable params: 384\n",
      "_________________________________________________________________\n"
     ]
    }
   ],
   "source": [
    "model1.summary()"
   ]
  },
  {
   "cell_type": "code",
   "execution_count": 22,
   "id": "f71e9275",
   "metadata": {
    "scrolled": true
   },
   "outputs": [
    {
     "name": "stdout",
     "output_type": "stream",
     "text": [
      "246/246 [==============================] - 14s 58ms/step\n"
     ]
    },
    {
     "data": {
      "text/plain": [
       "0.976536597806682"
      ]
     },
     "execution_count": 22,
     "metadata": {},
     "output_type": "execute_result"
    }
   ],
   "source": [
    "y_pred = model1.predict(x_test)\n",
    "accuracy_score(y_test.argmax(axis=-1),y_pred.argmax(axis=-1))"
   ]
  },
  {
   "cell_type": "code",
   "execution_count": 56,
   "id": "965e0942",
   "metadata": {},
   "outputs": [
    {
     "data": {
      "text/plain": [
       "0.9838156750436964"
      ]
     },
     "execution_count": 56,
     "metadata": {},
     "output_type": "execute_result"
    }
   ],
   "source": [
    "f1_score(y_test.argmax(axis=-1),y_pred.argmax(axis=-1),average='weighted')"
   ]
  },
  {
   "cell_type": "code",
   "execution_count": 29,
   "id": "7e32d7de",
   "metadata": {
    "scrolled": true
   },
   "outputs": [],
   "source": [
    "model1.save('road_sign_detection_with_dataaug')"
   ]
  },
  {
   "cell_type": "code",
   "execution_count": 9,
   "id": "0a1e6bad",
   "metadata": {
    "scrolled": true
   },
   "outputs": [
    {
     "name": "stdout",
     "output_type": "stream",
     "text": [
      "Model: \"sequential\"\n",
      "_________________________________________________________________\n",
      " Layer (type)                Output Shape              Param #   \n",
      "=================================================================\n",
      " conv2d (Conv2D)             (None, 64, 64, 64)        4864      \n",
      "                                                                 \n",
      " max_pooling2d (MaxPooling2D  (None, 32, 32, 64)       0         \n",
      " )                                                               \n",
      "                                                                 \n",
      " batch_normalization (BatchN  (None, 32, 32, 64)       256       \n",
      " ormalization)                                                   \n",
      "                                                                 \n",
      " conv2d_1 (Conv2D)           (None, 32, 32, 128)       73856     \n",
      "                                                                 \n",
      " max_pooling2d_1 (MaxPooling  (None, 16, 16, 128)      0         \n",
      " 2D)                                                             \n",
      "                                                                 \n",
      " batch_normalization_1 (Batc  (None, 16, 16, 128)      512       \n",
      " hNormalization)                                                 \n",
      "                                                                 \n",
      " flatten (Flatten)           (None, 32768)             0         \n",
      "                                                                 \n",
      " dense (Dense)               (None, 500)               16384500  \n",
      "                                                                 \n",
      " dropout (Dropout)           (None, 500)               0         \n",
      "                                                                 \n",
      " dense_1 (Dense)             (None, 43)                21543     \n",
      "                                                                 \n",
      "=================================================================\n",
      "Total params: 16,485,531\n",
      "Trainable params: 16,485,147\n",
      "Non-trainable params: 384\n",
      "_________________________________________________________________\n"
     ]
    }
   ],
   "source": [
    "ss = keras.models.load_model(r'D:\\anaconda3\\My_Projects\\NORTHEASTERN UNIVERSITY (ASSIGNMENTS & OTHER WORK)\\SML\\CNN SML Project\\road_sign_detection')\n",
    "ss.summary()"
   ]
  },
  {
   "cell_type": "code",
   "execution_count": 46,
   "id": "7e7080be",
   "metadata": {
    "scrolled": true
   },
   "outputs": [
    {
     "name": "stdout",
     "output_type": "stream",
     "text": [
      "246/246 [==============================] - 13s 52ms/step\n"
     ]
    },
    {
     "data": {
      "text/plain": [
       "0.9838051517470033"
      ]
     },
     "execution_count": 46,
     "metadata": {},
     "output_type": "execute_result"
    }
   ],
   "source": [
    "y_pred = ss.predict(x_test)\n",
    "accuracy_score(y_test.argmax(axis=-1),y_pred.argmax(axis=-1))"
   ]
  },
  {
   "cell_type": "code",
   "execution_count": 48,
   "id": "dc89d3b6",
   "metadata": {
    "scrolled": true
   },
   "outputs": [
    {
     "data": {
      "text/plain": [
       "array([41, 26, 14, ...,  2,  6, 13], dtype=int64)"
      ]
     },
     "execution_count": 48,
     "metadata": {},
     "output_type": "execute_result"
    }
   ],
   "source": [
    "y_test.argmax(axis=-1)"
   ]
  },
  {
   "cell_type": "code",
   "execution_count": 50,
   "id": "fbc30f6a",
   "metadata": {
    "scrolled": true
   },
   "outputs": [
    {
     "data": {
      "text/html": [
       "<div>\n",
       "<style scoped>\n",
       "    .dataframe tbody tr th:only-of-type {\n",
       "        vertical-align: middle;\n",
       "    }\n",
       "\n",
       "    .dataframe tbody tr th {\n",
       "        vertical-align: top;\n",
       "    }\n",
       "\n",
       "    .dataframe thead th {\n",
       "        text-align: right;\n",
       "    }\n",
       "</style>\n",
       "<table border=\"1\" class=\"dataframe\">\n",
       "  <thead>\n",
       "    <tr style=\"text-align: right;\">\n",
       "      <th></th>\n",
       "      <th>precision</th>\n",
       "      <th>recall</th>\n",
       "      <th>f1-score</th>\n",
       "      <th>support</th>\n",
       "    </tr>\n",
       "  </thead>\n",
       "  <tbody>\n",
       "    <tr>\n",
       "      <th>0</th>\n",
       "      <td>1.000000</td>\n",
       "      <td>0.952381</td>\n",
       "      <td>0.975610</td>\n",
       "      <td>42.000000</td>\n",
       "    </tr>\n",
       "    <tr>\n",
       "      <th>1</th>\n",
       "      <td>0.979911</td>\n",
       "      <td>0.988739</td>\n",
       "      <td>0.984305</td>\n",
       "      <td>444.000000</td>\n",
       "    </tr>\n",
       "    <tr>\n",
       "      <th>2</th>\n",
       "      <td>1.000000</td>\n",
       "      <td>0.955556</td>\n",
       "      <td>0.977273</td>\n",
       "      <td>450.000000</td>\n",
       "    </tr>\n",
       "    <tr>\n",
       "      <th>3</th>\n",
       "      <td>0.946309</td>\n",
       "      <td>1.000000</td>\n",
       "      <td>0.972414</td>\n",
       "      <td>282.000000</td>\n",
       "    </tr>\n",
       "    <tr>\n",
       "      <th>4</th>\n",
       "      <td>0.987500</td>\n",
       "      <td>0.997475</td>\n",
       "      <td>0.992462</td>\n",
       "      <td>396.000000</td>\n",
       "    </tr>\n",
       "    <tr>\n",
       "      <th>5</th>\n",
       "      <td>0.986034</td>\n",
       "      <td>0.948925</td>\n",
       "      <td>0.967123</td>\n",
       "      <td>372.000000</td>\n",
       "    </tr>\n",
       "    <tr>\n",
       "      <th>6</th>\n",
       "      <td>0.954545</td>\n",
       "      <td>1.000000</td>\n",
       "      <td>0.976744</td>\n",
       "      <td>84.000000</td>\n",
       "    </tr>\n",
       "    <tr>\n",
       "      <th>7</th>\n",
       "      <td>0.996364</td>\n",
       "      <td>0.951389</td>\n",
       "      <td>0.973357</td>\n",
       "      <td>288.000000</td>\n",
       "    </tr>\n",
       "    <tr>\n",
       "      <th>8</th>\n",
       "      <td>0.949324</td>\n",
       "      <td>0.996454</td>\n",
       "      <td>0.972318</td>\n",
       "      <td>282.000000</td>\n",
       "    </tr>\n",
       "    <tr>\n",
       "      <th>9</th>\n",
       "      <td>0.993174</td>\n",
       "      <td>0.989796</td>\n",
       "      <td>0.991482</td>\n",
       "      <td>294.000000</td>\n",
       "    </tr>\n",
       "    <tr>\n",
       "      <th>10</th>\n",
       "      <td>0.992519</td>\n",
       "      <td>0.990050</td>\n",
       "      <td>0.991283</td>\n",
       "      <td>402.000000</td>\n",
       "    </tr>\n",
       "    <tr>\n",
       "      <th>11</th>\n",
       "      <td>0.977695</td>\n",
       "      <td>0.996212</td>\n",
       "      <td>0.986867</td>\n",
       "      <td>264.000000</td>\n",
       "    </tr>\n",
       "    <tr>\n",
       "      <th>12</th>\n",
       "      <td>0.992908</td>\n",
       "      <td>1.000000</td>\n",
       "      <td>0.996441</td>\n",
       "      <td>420.000000</td>\n",
       "    </tr>\n",
       "    <tr>\n",
       "      <th>13</th>\n",
       "      <td>0.988532</td>\n",
       "      <td>0.997685</td>\n",
       "      <td>0.993088</td>\n",
       "      <td>432.000000</td>\n",
       "    </tr>\n",
       "    <tr>\n",
       "      <th>14</th>\n",
       "      <td>0.993631</td>\n",
       "      <td>1.000000</td>\n",
       "      <td>0.996805</td>\n",
       "      <td>156.000000</td>\n",
       "    </tr>\n",
       "    <tr>\n",
       "      <th>15</th>\n",
       "      <td>1.000000</td>\n",
       "      <td>0.944444</td>\n",
       "      <td>0.971429</td>\n",
       "      <td>126.000000</td>\n",
       "    </tr>\n",
       "    <tr>\n",
       "      <th>16</th>\n",
       "      <td>1.000000</td>\n",
       "      <td>0.988095</td>\n",
       "      <td>0.994012</td>\n",
       "      <td>84.000000</td>\n",
       "    </tr>\n",
       "    <tr>\n",
       "      <th>17</th>\n",
       "      <td>1.000000</td>\n",
       "      <td>1.000000</td>\n",
       "      <td>1.000000</td>\n",
       "      <td>222.000000</td>\n",
       "    </tr>\n",
       "    <tr>\n",
       "      <th>18</th>\n",
       "      <td>1.000000</td>\n",
       "      <td>0.975000</td>\n",
       "      <td>0.987342</td>\n",
       "      <td>240.000000</td>\n",
       "    </tr>\n",
       "    <tr>\n",
       "      <th>19</th>\n",
       "      <td>1.000000</td>\n",
       "      <td>0.952381</td>\n",
       "      <td>0.975610</td>\n",
       "      <td>42.000000</td>\n",
       "    </tr>\n",
       "    <tr>\n",
       "      <th>20</th>\n",
       "      <td>0.972973</td>\n",
       "      <td>1.000000</td>\n",
       "      <td>0.986301</td>\n",
       "      <td>72.000000</td>\n",
       "    </tr>\n",
       "    <tr>\n",
       "      <th>21</th>\n",
       "      <td>1.000000</td>\n",
       "      <td>0.924242</td>\n",
       "      <td>0.960630</td>\n",
       "      <td>66.000000</td>\n",
       "    </tr>\n",
       "    <tr>\n",
       "      <th>22</th>\n",
       "      <td>1.000000</td>\n",
       "      <td>1.000000</td>\n",
       "      <td>1.000000</td>\n",
       "      <td>78.000000</td>\n",
       "    </tr>\n",
       "    <tr>\n",
       "      <th>23</th>\n",
       "      <td>0.970874</td>\n",
       "      <td>0.980392</td>\n",
       "      <td>0.975610</td>\n",
       "      <td>102.000000</td>\n",
       "    </tr>\n",
       "    <tr>\n",
       "      <th>24</th>\n",
       "      <td>0.929825</td>\n",
       "      <td>0.981481</td>\n",
       "      <td>0.954955</td>\n",
       "      <td>54.000000</td>\n",
       "    </tr>\n",
       "    <tr>\n",
       "      <th>25</th>\n",
       "      <td>0.990066</td>\n",
       "      <td>0.996667</td>\n",
       "      <td>0.993355</td>\n",
       "      <td>300.000000</td>\n",
       "    </tr>\n",
       "    <tr>\n",
       "      <th>26</th>\n",
       "      <td>0.936508</td>\n",
       "      <td>0.983333</td>\n",
       "      <td>0.959350</td>\n",
       "      <td>120.000000</td>\n",
       "    </tr>\n",
       "    <tr>\n",
       "      <th>27</th>\n",
       "      <td>1.000000</td>\n",
       "      <td>1.000000</td>\n",
       "      <td>1.000000</td>\n",
       "      <td>48.000000</td>\n",
       "    </tr>\n",
       "    <tr>\n",
       "      <th>28</th>\n",
       "      <td>0.981651</td>\n",
       "      <td>0.990741</td>\n",
       "      <td>0.986175</td>\n",
       "      <td>108.000000</td>\n",
       "    </tr>\n",
       "    <tr>\n",
       "      <th>29</th>\n",
       "      <td>0.981818</td>\n",
       "      <td>1.000000</td>\n",
       "      <td>0.990826</td>\n",
       "      <td>54.000000</td>\n",
       "    </tr>\n",
       "    <tr>\n",
       "      <th>30</th>\n",
       "      <td>1.000000</td>\n",
       "      <td>0.944444</td>\n",
       "      <td>0.971429</td>\n",
       "      <td>90.000000</td>\n",
       "    </tr>\n",
       "    <tr>\n",
       "      <th>31</th>\n",
       "      <td>1.000000</td>\n",
       "      <td>0.980769</td>\n",
       "      <td>0.990291</td>\n",
       "      <td>156.000000</td>\n",
       "    </tr>\n",
       "    <tr>\n",
       "      <th>32</th>\n",
       "      <td>0.830189</td>\n",
       "      <td>0.916667</td>\n",
       "      <td>0.871287</td>\n",
       "      <td>48.000000</td>\n",
       "    </tr>\n",
       "    <tr>\n",
       "      <th>33</th>\n",
       "      <td>0.985714</td>\n",
       "      <td>1.000000</td>\n",
       "      <td>0.992806</td>\n",
       "      <td>138.000000</td>\n",
       "    </tr>\n",
       "    <tr>\n",
       "      <th>34</th>\n",
       "      <td>0.988235</td>\n",
       "      <td>1.000000</td>\n",
       "      <td>0.994083</td>\n",
       "      <td>84.000000</td>\n",
       "    </tr>\n",
       "    <tr>\n",
       "      <th>35</th>\n",
       "      <td>1.000000</td>\n",
       "      <td>0.991667</td>\n",
       "      <td>0.995816</td>\n",
       "      <td>240.000000</td>\n",
       "    </tr>\n",
       "    <tr>\n",
       "      <th>36</th>\n",
       "      <td>0.975000</td>\n",
       "      <td>1.000000</td>\n",
       "      <td>0.987342</td>\n",
       "      <td>78.000000</td>\n",
       "    </tr>\n",
       "    <tr>\n",
       "      <th>37</th>\n",
       "      <td>1.000000</td>\n",
       "      <td>0.976190</td>\n",
       "      <td>0.987952</td>\n",
       "      <td>42.000000</td>\n",
       "    </tr>\n",
       "    <tr>\n",
       "      <th>38</th>\n",
       "      <td>0.973934</td>\n",
       "      <td>0.992754</td>\n",
       "      <td>0.983254</td>\n",
       "      <td>414.000000</td>\n",
       "    </tr>\n",
       "    <tr>\n",
       "      <th>39</th>\n",
       "      <td>1.000000</td>\n",
       "      <td>0.950000</td>\n",
       "      <td>0.974359</td>\n",
       "      <td>60.000000</td>\n",
       "    </tr>\n",
       "    <tr>\n",
       "      <th>40</th>\n",
       "      <td>0.957143</td>\n",
       "      <td>0.930556</td>\n",
       "      <td>0.943662</td>\n",
       "      <td>72.000000</td>\n",
       "    </tr>\n",
       "    <tr>\n",
       "      <th>41</th>\n",
       "      <td>1.000000</td>\n",
       "      <td>0.979167</td>\n",
       "      <td>0.989474</td>\n",
       "      <td>48.000000</td>\n",
       "    </tr>\n",
       "    <tr>\n",
       "      <th>42</th>\n",
       "      <td>0.979167</td>\n",
       "      <td>0.979167</td>\n",
       "      <td>0.979167</td>\n",
       "      <td>48.000000</td>\n",
       "    </tr>\n",
       "    <tr>\n",
       "      <th>accuracy</th>\n",
       "      <td>0.983805</td>\n",
       "      <td>0.983805</td>\n",
       "      <td>0.983805</td>\n",
       "      <td>0.983805</td>\n",
       "    </tr>\n",
       "    <tr>\n",
       "      <th>macro avg</th>\n",
       "      <td>0.981199</td>\n",
       "      <td>0.979600</td>\n",
       "      <td>0.980095</td>\n",
       "      <td>7842.000000</td>\n",
       "    </tr>\n",
       "    <tr>\n",
       "      <th>weighted avg</th>\n",
       "      <td>0.984264</td>\n",
       "      <td>0.983805</td>\n",
       "      <td>0.983816</td>\n",
       "      <td>7842.000000</td>\n",
       "    </tr>\n",
       "  </tbody>\n",
       "</table>\n",
       "</div>"
      ],
      "text/plain": [
       "              precision    recall  f1-score      support\n",
       "0              1.000000  0.952381  0.975610    42.000000\n",
       "1              0.979911  0.988739  0.984305   444.000000\n",
       "2              1.000000  0.955556  0.977273   450.000000\n",
       "3              0.946309  1.000000  0.972414   282.000000\n",
       "4              0.987500  0.997475  0.992462   396.000000\n",
       "5              0.986034  0.948925  0.967123   372.000000\n",
       "6              0.954545  1.000000  0.976744    84.000000\n",
       "7              0.996364  0.951389  0.973357   288.000000\n",
       "8              0.949324  0.996454  0.972318   282.000000\n",
       "9              0.993174  0.989796  0.991482   294.000000\n",
       "10             0.992519  0.990050  0.991283   402.000000\n",
       "11             0.977695  0.996212  0.986867   264.000000\n",
       "12             0.992908  1.000000  0.996441   420.000000\n",
       "13             0.988532  0.997685  0.993088   432.000000\n",
       "14             0.993631  1.000000  0.996805   156.000000\n",
       "15             1.000000  0.944444  0.971429   126.000000\n",
       "16             1.000000  0.988095  0.994012    84.000000\n",
       "17             1.000000  1.000000  1.000000   222.000000\n",
       "18             1.000000  0.975000  0.987342   240.000000\n",
       "19             1.000000  0.952381  0.975610    42.000000\n",
       "20             0.972973  1.000000  0.986301    72.000000\n",
       "21             1.000000  0.924242  0.960630    66.000000\n",
       "22             1.000000  1.000000  1.000000    78.000000\n",
       "23             0.970874  0.980392  0.975610   102.000000\n",
       "24             0.929825  0.981481  0.954955    54.000000\n",
       "25             0.990066  0.996667  0.993355   300.000000\n",
       "26             0.936508  0.983333  0.959350   120.000000\n",
       "27             1.000000  1.000000  1.000000    48.000000\n",
       "28             0.981651  0.990741  0.986175   108.000000\n",
       "29             0.981818  1.000000  0.990826    54.000000\n",
       "30             1.000000  0.944444  0.971429    90.000000\n",
       "31             1.000000  0.980769  0.990291   156.000000\n",
       "32             0.830189  0.916667  0.871287    48.000000\n",
       "33             0.985714  1.000000  0.992806   138.000000\n",
       "34             0.988235  1.000000  0.994083    84.000000\n",
       "35             1.000000  0.991667  0.995816   240.000000\n",
       "36             0.975000  1.000000  0.987342    78.000000\n",
       "37             1.000000  0.976190  0.987952    42.000000\n",
       "38             0.973934  0.992754  0.983254   414.000000\n",
       "39             1.000000  0.950000  0.974359    60.000000\n",
       "40             0.957143  0.930556  0.943662    72.000000\n",
       "41             1.000000  0.979167  0.989474    48.000000\n",
       "42             0.979167  0.979167  0.979167    48.000000\n",
       "accuracy       0.983805  0.983805  0.983805     0.983805\n",
       "macro avg      0.981199  0.979600  0.980095  7842.000000\n",
       "weighted avg   0.984264  0.983805  0.983816  7842.000000"
      ]
     },
     "execution_count": 50,
     "metadata": {},
     "output_type": "execute_result"
    }
   ],
   "source": [
    "pd.DataFrame(classification_report(y_test.argmax(axis=-1),y_pred.argmax(axis=-1),output_dict = True)).transpose()"
   ]
  },
  {
   "cell_type": "code",
   "execution_count": null,
   "id": "525aecba",
   "metadata": {},
   "outputs": [],
   "source": [
    "### Testing Data "
   ]
  },
  {
   "cell_type": "code",
   "execution_count": 23,
   "id": "18e87c7e",
   "metadata": {
    "scrolled": true
   },
   "outputs": [],
   "source": [
    "test_img_data = []\n",
    "\n",
    "test_path = \"E:/Northeastern Grad Studies/Fall 22 - Semester 1/SML - Prof. Honyang Zang/german_roadsign/Test/\"\n",
    "os.listdir(test_path)\n",
    "\n",
    "for i in os.listdir(test_path):\n",
    "\n",
    "    path = test_path+ i\n",
    "    \n",
    "    img = cv2.imread(path)\n",
    "    img = Image.fromarray(img, 'RGB').resize((64, 64))\n",
    "    img = np.array(img)\n",
    "\n",
    "    test_img_data.append(img)\n",
    "    #There could be error bcoz of the a excel file present in the test directory \n",
    "    #before runing this code make sure there is no other files except .png files  \n",
    "    \n",
    "test_img_data = np.array(test_img_data)\n",
    "test_img_data = test_img_data/255"
   ]
  },
  {
   "cell_type": "code",
   "execution_count": 37,
   "id": "bbae7369",
   "metadata": {},
   "outputs": [],
   "source": [
    "test_df = pd.read_csv(r'E:\\Northeastern Grad Studies\\Fall 22 - Semester 1\\SML - Prof. Honyang Zang\\german_roadsign\\Test.csv')\n",
    "test_class = np.array(test_df['ClassId'])"
   ]
  },
  {
   "cell_type": "code",
   "execution_count": 28,
   "id": "3281d3ae",
   "metadata": {},
   "outputs": [],
   "source": [
    "np.save('test_img_data',test_img_data)"
   ]
  },
  {
   "cell_type": "code",
   "execution_count": 33,
   "id": "0b9cb0df",
   "metadata": {},
   "outputs": [],
   "source": [
    "test_img_data = np.load(\"D:/anaconda3/My_Projects/NORTHEASTERN UNIVERSITY (ASSIGNMENTS & OTHER WORK)/SML/CNN SML Project/test_img_data.npy\")\n"
   ]
  },
  {
   "cell_type": "code",
   "execution_count": 35,
   "id": "e1597cf8",
   "metadata": {
    "scrolled": true
   },
   "outputs": [
    {
     "name": "stdout",
     "output_type": "stream",
     "text": [
      "395/395 [==============================] - 21s 52ms/step\n"
     ]
    }
   ],
   "source": [
    "y_pred_prob = ss.predict(test_img_data)\n",
    "y_pred = np.argmax(y_pred_prob,axis=-1)"
   ]
  },
  {
   "cell_type": "code",
   "execution_count": 38,
   "id": "040f60d0",
   "metadata": {
    "scrolled": true
   },
   "outputs": [
    {
     "data": {
      "text/plain": [
       "0.9432304038004751"
      ]
     },
     "execution_count": 38,
     "metadata": {},
     "output_type": "execute_result"
    }
   ],
   "source": [
    "accuracy_score(test_class,y_pred)"
   ]
  },
  {
   "cell_type": "code",
   "execution_count": 39,
   "id": "672f01b5",
   "metadata": {
    "scrolled": true
   },
   "outputs": [
    {
     "data": {
      "text/html": [
       "<div>\n",
       "<style scoped>\n",
       "    .dataframe tbody tr th:only-of-type {\n",
       "        vertical-align: middle;\n",
       "    }\n",
       "\n",
       "    .dataframe tbody tr th {\n",
       "        vertical-align: top;\n",
       "    }\n",
       "\n",
       "    .dataframe thead th {\n",
       "        text-align: right;\n",
       "    }\n",
       "</style>\n",
       "<table border=\"1\" class=\"dataframe\">\n",
       "  <thead>\n",
       "    <tr style=\"text-align: right;\">\n",
       "      <th></th>\n",
       "      <th>precision</th>\n",
       "      <th>recall</th>\n",
       "      <th>f1-score</th>\n",
       "      <th>support</th>\n",
       "    </tr>\n",
       "  </thead>\n",
       "  <tbody>\n",
       "    <tr>\n",
       "      <th>0</th>\n",
       "      <td>1.000000</td>\n",
       "      <td>0.833333</td>\n",
       "      <td>0.909091</td>\n",
       "      <td>60.00000</td>\n",
       "    </tr>\n",
       "    <tr>\n",
       "      <th>1</th>\n",
       "      <td>0.928760</td>\n",
       "      <td>0.977778</td>\n",
       "      <td>0.952639</td>\n",
       "      <td>720.00000</td>\n",
       "    </tr>\n",
       "    <tr>\n",
       "      <th>2</th>\n",
       "      <td>0.989101</td>\n",
       "      <td>0.968000</td>\n",
       "      <td>0.978437</td>\n",
       "      <td>750.00000</td>\n",
       "    </tr>\n",
       "    <tr>\n",
       "      <th>3</th>\n",
       "      <td>0.873767</td>\n",
       "      <td>0.984444</td>\n",
       "      <td>0.925810</td>\n",
       "      <td>450.00000</td>\n",
       "    </tr>\n",
       "    <tr>\n",
       "      <th>4</th>\n",
       "      <td>0.989181</td>\n",
       "      <td>0.969697</td>\n",
       "      <td>0.979342</td>\n",
       "      <td>660.00000</td>\n",
       "    </tr>\n",
       "    <tr>\n",
       "      <th>5</th>\n",
       "      <td>0.968013</td>\n",
       "      <td>0.912698</td>\n",
       "      <td>0.939542</td>\n",
       "      <td>630.00000</td>\n",
       "    </tr>\n",
       "    <tr>\n",
       "      <th>6</th>\n",
       "      <td>0.907801</td>\n",
       "      <td>0.853333</td>\n",
       "      <td>0.879725</td>\n",
       "      <td>150.00000</td>\n",
       "    </tr>\n",
       "    <tr>\n",
       "      <th>7</th>\n",
       "      <td>0.978320</td>\n",
       "      <td>0.802222</td>\n",
       "      <td>0.881563</td>\n",
       "      <td>450.00000</td>\n",
       "    </tr>\n",
       "    <tr>\n",
       "      <th>8</th>\n",
       "      <td>0.814532</td>\n",
       "      <td>0.946667</td>\n",
       "      <td>0.875642</td>\n",
       "      <td>450.00000</td>\n",
       "    </tr>\n",
       "    <tr>\n",
       "      <th>9</th>\n",
       "      <td>0.953252</td>\n",
       "      <td>0.977083</td>\n",
       "      <td>0.965021</td>\n",
       "      <td>480.00000</td>\n",
       "    </tr>\n",
       "    <tr>\n",
       "      <th>10</th>\n",
       "      <td>0.983434</td>\n",
       "      <td>0.989394</td>\n",
       "      <td>0.986405</td>\n",
       "      <td>660.00000</td>\n",
       "    </tr>\n",
       "    <tr>\n",
       "      <th>11</th>\n",
       "      <td>0.860515</td>\n",
       "      <td>0.954762</td>\n",
       "      <td>0.905192</td>\n",
       "      <td>420.00000</td>\n",
       "    </tr>\n",
       "    <tr>\n",
       "      <th>12</th>\n",
       "      <td>0.991266</td>\n",
       "      <td>0.986957</td>\n",
       "      <td>0.989107</td>\n",
       "      <td>690.00000</td>\n",
       "    </tr>\n",
       "    <tr>\n",
       "      <th>13</th>\n",
       "      <td>0.975543</td>\n",
       "      <td>0.997222</td>\n",
       "      <td>0.986264</td>\n",
       "      <td>720.00000</td>\n",
       "    </tr>\n",
       "    <tr>\n",
       "      <th>14</th>\n",
       "      <td>1.000000</td>\n",
       "      <td>1.000000</td>\n",
       "      <td>1.000000</td>\n",
       "      <td>270.00000</td>\n",
       "    </tr>\n",
       "    <tr>\n",
       "      <th>15</th>\n",
       "      <td>0.994845</td>\n",
       "      <td>0.919048</td>\n",
       "      <td>0.955446</td>\n",
       "      <td>210.00000</td>\n",
       "    </tr>\n",
       "    <tr>\n",
       "      <th>16</th>\n",
       "      <td>0.993103</td>\n",
       "      <td>0.960000</td>\n",
       "      <td>0.976271</td>\n",
       "      <td>150.00000</td>\n",
       "    </tr>\n",
       "    <tr>\n",
       "      <th>17</th>\n",
       "      <td>0.996960</td>\n",
       "      <td>0.911111</td>\n",
       "      <td>0.952104</td>\n",
       "      <td>360.00000</td>\n",
       "    </tr>\n",
       "    <tr>\n",
       "      <th>18</th>\n",
       "      <td>0.980198</td>\n",
       "      <td>0.761538</td>\n",
       "      <td>0.857143</td>\n",
       "      <td>390.00000</td>\n",
       "    </tr>\n",
       "    <tr>\n",
       "      <th>19</th>\n",
       "      <td>0.937500</td>\n",
       "      <td>1.000000</td>\n",
       "      <td>0.967742</td>\n",
       "      <td>60.00000</td>\n",
       "    </tr>\n",
       "    <tr>\n",
       "      <th>20</th>\n",
       "      <td>0.836538</td>\n",
       "      <td>0.966667</td>\n",
       "      <td>0.896907</td>\n",
       "      <td>90.00000</td>\n",
       "    </tr>\n",
       "    <tr>\n",
       "      <th>21</th>\n",
       "      <td>1.000000</td>\n",
       "      <td>0.955556</td>\n",
       "      <td>0.977273</td>\n",
       "      <td>90.00000</td>\n",
       "    </tr>\n",
       "    <tr>\n",
       "      <th>22</th>\n",
       "      <td>0.942149</td>\n",
       "      <td>0.950000</td>\n",
       "      <td>0.946058</td>\n",
       "      <td>120.00000</td>\n",
       "    </tr>\n",
       "    <tr>\n",
       "      <th>23</th>\n",
       "      <td>0.950355</td>\n",
       "      <td>0.893333</td>\n",
       "      <td>0.920962</td>\n",
       "      <td>150.00000</td>\n",
       "    </tr>\n",
       "    <tr>\n",
       "      <th>24</th>\n",
       "      <td>0.965909</td>\n",
       "      <td>0.944444</td>\n",
       "      <td>0.955056</td>\n",
       "      <td>90.00000</td>\n",
       "    </tr>\n",
       "    <tr>\n",
       "      <th>25</th>\n",
       "      <td>0.944559</td>\n",
       "      <td>0.958333</td>\n",
       "      <td>0.951396</td>\n",
       "      <td>480.00000</td>\n",
       "    </tr>\n",
       "    <tr>\n",
       "      <th>26</th>\n",
       "      <td>0.696262</td>\n",
       "      <td>0.827778</td>\n",
       "      <td>0.756345</td>\n",
       "      <td>180.00000</td>\n",
       "    </tr>\n",
       "    <tr>\n",
       "      <th>27</th>\n",
       "      <td>0.971429</td>\n",
       "      <td>0.566667</td>\n",
       "      <td>0.715789</td>\n",
       "      <td>60.00000</td>\n",
       "    </tr>\n",
       "    <tr>\n",
       "      <th>28</th>\n",
       "      <td>0.885542</td>\n",
       "      <td>0.980000</td>\n",
       "      <td>0.930380</td>\n",
       "      <td>150.00000</td>\n",
       "    </tr>\n",
       "    <tr>\n",
       "      <th>29</th>\n",
       "      <td>0.965909</td>\n",
       "      <td>0.944444</td>\n",
       "      <td>0.955056</td>\n",
       "      <td>90.00000</td>\n",
       "    </tr>\n",
       "    <tr>\n",
       "      <th>30</th>\n",
       "      <td>0.910448</td>\n",
       "      <td>0.813333</td>\n",
       "      <td>0.859155</td>\n",
       "      <td>150.00000</td>\n",
       "    </tr>\n",
       "    <tr>\n",
       "      <th>31</th>\n",
       "      <td>0.956364</td>\n",
       "      <td>0.974074</td>\n",
       "      <td>0.965138</td>\n",
       "      <td>270.00000</td>\n",
       "    </tr>\n",
       "    <tr>\n",
       "      <th>32</th>\n",
       "      <td>0.674157</td>\n",
       "      <td>1.000000</td>\n",
       "      <td>0.805369</td>\n",
       "      <td>60.00000</td>\n",
       "    </tr>\n",
       "    <tr>\n",
       "      <th>33</th>\n",
       "      <td>0.966825</td>\n",
       "      <td>0.971429</td>\n",
       "      <td>0.969121</td>\n",
       "      <td>210.00000</td>\n",
       "    </tr>\n",
       "    <tr>\n",
       "      <th>34</th>\n",
       "      <td>0.832168</td>\n",
       "      <td>0.991667</td>\n",
       "      <td>0.904943</td>\n",
       "      <td>120.00000</td>\n",
       "    </tr>\n",
       "    <tr>\n",
       "      <th>35</th>\n",
       "      <td>0.966408</td>\n",
       "      <td>0.958974</td>\n",
       "      <td>0.962677</td>\n",
       "      <td>390.00000</td>\n",
       "    </tr>\n",
       "    <tr>\n",
       "      <th>36</th>\n",
       "      <td>0.966102</td>\n",
       "      <td>0.950000</td>\n",
       "      <td>0.957983</td>\n",
       "      <td>120.00000</td>\n",
       "    </tr>\n",
       "    <tr>\n",
       "      <th>37</th>\n",
       "      <td>1.000000</td>\n",
       "      <td>0.816667</td>\n",
       "      <td>0.899083</td>\n",
       "      <td>60.00000</td>\n",
       "    </tr>\n",
       "    <tr>\n",
       "      <th>38</th>\n",
       "      <td>0.969741</td>\n",
       "      <td>0.975362</td>\n",
       "      <td>0.972543</td>\n",
       "      <td>690.00000</td>\n",
       "    </tr>\n",
       "    <tr>\n",
       "      <th>39</th>\n",
       "      <td>1.000000</td>\n",
       "      <td>0.988889</td>\n",
       "      <td>0.994413</td>\n",
       "      <td>90.00000</td>\n",
       "    </tr>\n",
       "    <tr>\n",
       "      <th>40</th>\n",
       "      <td>0.880000</td>\n",
       "      <td>0.977778</td>\n",
       "      <td>0.926316</td>\n",
       "      <td>90.00000</td>\n",
       "    </tr>\n",
       "    <tr>\n",
       "      <th>41</th>\n",
       "      <td>0.662338</td>\n",
       "      <td>0.850000</td>\n",
       "      <td>0.744526</td>\n",
       "      <td>60.00000</td>\n",
       "    </tr>\n",
       "    <tr>\n",
       "      <th>42</th>\n",
       "      <td>0.967213</td>\n",
       "      <td>0.655556</td>\n",
       "      <td>0.781457</td>\n",
       "      <td>90.00000</td>\n",
       "    </tr>\n",
       "    <tr>\n",
       "      <th>accuracy</th>\n",
       "      <td>0.943230</td>\n",
       "      <td>0.943230</td>\n",
       "      <td>0.943230</td>\n",
       "      <td>0.94323</td>\n",
       "    </tr>\n",
       "    <tr>\n",
       "      <th>macro avg</th>\n",
       "      <td>0.930849</td>\n",
       "      <td>0.921308</td>\n",
       "      <td>0.921173</td>\n",
       "      <td>12630.00000</td>\n",
       "    </tr>\n",
       "    <tr>\n",
       "      <th>weighted avg</th>\n",
       "      <td>0.947726</td>\n",
       "      <td>0.943230</td>\n",
       "      <td>0.943136</td>\n",
       "      <td>12630.00000</td>\n",
       "    </tr>\n",
       "  </tbody>\n",
       "</table>\n",
       "</div>"
      ],
      "text/plain": [
       "              precision    recall  f1-score      support\n",
       "0              1.000000  0.833333  0.909091     60.00000\n",
       "1              0.928760  0.977778  0.952639    720.00000\n",
       "2              0.989101  0.968000  0.978437    750.00000\n",
       "3              0.873767  0.984444  0.925810    450.00000\n",
       "4              0.989181  0.969697  0.979342    660.00000\n",
       "5              0.968013  0.912698  0.939542    630.00000\n",
       "6              0.907801  0.853333  0.879725    150.00000\n",
       "7              0.978320  0.802222  0.881563    450.00000\n",
       "8              0.814532  0.946667  0.875642    450.00000\n",
       "9              0.953252  0.977083  0.965021    480.00000\n",
       "10             0.983434  0.989394  0.986405    660.00000\n",
       "11             0.860515  0.954762  0.905192    420.00000\n",
       "12             0.991266  0.986957  0.989107    690.00000\n",
       "13             0.975543  0.997222  0.986264    720.00000\n",
       "14             1.000000  1.000000  1.000000    270.00000\n",
       "15             0.994845  0.919048  0.955446    210.00000\n",
       "16             0.993103  0.960000  0.976271    150.00000\n",
       "17             0.996960  0.911111  0.952104    360.00000\n",
       "18             0.980198  0.761538  0.857143    390.00000\n",
       "19             0.937500  1.000000  0.967742     60.00000\n",
       "20             0.836538  0.966667  0.896907     90.00000\n",
       "21             1.000000  0.955556  0.977273     90.00000\n",
       "22             0.942149  0.950000  0.946058    120.00000\n",
       "23             0.950355  0.893333  0.920962    150.00000\n",
       "24             0.965909  0.944444  0.955056     90.00000\n",
       "25             0.944559  0.958333  0.951396    480.00000\n",
       "26             0.696262  0.827778  0.756345    180.00000\n",
       "27             0.971429  0.566667  0.715789     60.00000\n",
       "28             0.885542  0.980000  0.930380    150.00000\n",
       "29             0.965909  0.944444  0.955056     90.00000\n",
       "30             0.910448  0.813333  0.859155    150.00000\n",
       "31             0.956364  0.974074  0.965138    270.00000\n",
       "32             0.674157  1.000000  0.805369     60.00000\n",
       "33             0.966825  0.971429  0.969121    210.00000\n",
       "34             0.832168  0.991667  0.904943    120.00000\n",
       "35             0.966408  0.958974  0.962677    390.00000\n",
       "36             0.966102  0.950000  0.957983    120.00000\n",
       "37             1.000000  0.816667  0.899083     60.00000\n",
       "38             0.969741  0.975362  0.972543    690.00000\n",
       "39             1.000000  0.988889  0.994413     90.00000\n",
       "40             0.880000  0.977778  0.926316     90.00000\n",
       "41             0.662338  0.850000  0.744526     60.00000\n",
       "42             0.967213  0.655556  0.781457     90.00000\n",
       "accuracy       0.943230  0.943230  0.943230      0.94323\n",
       "macro avg      0.930849  0.921308  0.921173  12630.00000\n",
       "weighted avg   0.947726  0.943230  0.943136  12630.00000"
      ]
     },
     "execution_count": 39,
     "metadata": {},
     "output_type": "execute_result"
    }
   ],
   "source": [
    "pd.DataFrame(classification_report(test_class,y_pred, output_dict = True)).transpose()"
   ]
  },
  {
   "cell_type": "code",
   "execution_count": null,
   "id": "a6e2e278",
   "metadata": {},
   "outputs": [],
   "source": []
  },
  {
   "cell_type": "code",
   "execution_count": null,
   "id": "ef3ebb3b",
   "metadata": {},
   "outputs": [],
   "source": []
  },
  {
   "cell_type": "code",
   "execution_count": null,
   "id": "5d62d1d8",
   "metadata": {},
   "outputs": [],
   "source": []
  }
 ],
 "metadata": {
  "kernelspec": {
   "display_name": "Python 3 (ipykernel)",
   "language": "python",
   "name": "python3"
  },
  "language_info": {
   "codemirror_mode": {
    "name": "ipython",
    "version": 3
   },
   "file_extension": ".py",
   "mimetype": "text/x-python",
   "name": "python",
   "nbconvert_exporter": "python",
   "pygments_lexer": "ipython3",
   "version": "3.9.13"
  }
 },
 "nbformat": 4,
 "nbformat_minor": 5
}
