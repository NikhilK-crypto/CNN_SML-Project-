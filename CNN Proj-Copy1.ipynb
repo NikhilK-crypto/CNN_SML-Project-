{
 "cells": [
  {
   "cell_type": "code",
   "execution_count": 1,
   "id": "fe97216e",
   "metadata": {},
   "outputs": [],
   "source": [
    "import os \n",
    "import pandas as pd \n",
    "import numpy as np \n",
    "import matplotlib.pyplot as plt \n",
    "import seaborn as sb \n",
    "from imutils import paths\n",
    "from PIL import Image\n",
    "from sklearn.model_selection import train_test_split\n",
    "import tensorflow as tf \n",
    "from tensorflow import keras \n",
    "from sklearn.metrics import accuracy_score\n",
    "import warnings\n",
    "warnings.filterwarnings('ignore')"
   ]
  },
  {
   "cell_type": "code",
   "execution_count": 2,
   "id": "a172c525",
   "metadata": {},
   "outputs": [],
   "source": [
    "import cv2\n",
    "from tensorflow.keras.models import Sequential\n",
    "from tensorflow.keras.layers import Conv2D,Dense,MaxPooling2D,Flatten, Dropout,BatchNormalization\n",
    "from keras.preprocessing.image import ImageDataGenerator\n",
    "\n",
    "from keras.layers import Input, Lambda, Dense, Flatten\n",
    "from keras.models import Model\n",
    "from keras.applications.vgg16 import VGG16\n",
    "from keras.applications.vgg16 import preprocess_input\n",
    "from keras.preprocessing import image\n",
    "from keras.preprocessing.image import ImageDataGenerator\n",
    "from keras.models import Sequential"
   ]
  },
  {
   "cell_type": "code",
   "execution_count": 3,
   "id": "3ee947d2",
   "metadata": {},
   "outputs": [],
   "source": [
    "data_directory ='E:/Northeastern Grad Studies/Fall 22 - Semester 1/SML - Prof. Honyang Zang/german_roadsign/'"
   ]
  },
  {
   "cell_type": "code",
   "execution_count": 4,
   "id": "6e5b045c",
   "metadata": {},
   "outputs": [
    {
     "data": {
      "text/plain": [
       "43"
      ]
     },
     "execution_count": 4,
     "metadata": {},
     "output_type": "execute_result"
    }
   ],
   "source": [
    "train_dir= 'E:/Northeastern Grad Studies/Fall 22 - Semester 1/SML - Prof. Honyang Zang/german_roadsign/Train/'\n",
    "len(os.listdir(train_dir))\n",
    "# Therefore there are 42 classes present in Training dataset "
   ]
  },
  {
   "cell_type": "code",
   "execution_count": 5,
   "id": "7dfd2272",
   "metadata": {
    "scrolled": false
   },
   "outputs": [
    {
     "name": "stdout",
     "output_type": "stream",
     "text": [
      "{0: 210, 1: 2220, 2: 2250, 3: 1410, 4: 1980, 5: 1860, 6: 420, 7: 1440, 8: 1410, 9: 1470, 10: 2010, 11: 1320, 12: 2100, 13: 2160, 14: 780, 15: 630, 16: 420, 17: 1110, 18: 1200, 19: 210, 20: 360, 21: 330, 22: 390, 23: 510, 24: 270, 25: 1500, 26: 600, 27: 240, 28: 540, 29: 270, 30: 450, 31: 780, 32: 240, 33: 689, 34: 420, 35: 1200, 36: 390, 37: 210, 38: 2070, 39: 300, 40: 360, 41: 240, 42: 240}\n"
     ]
    }
   ],
   "source": [
    "dic={}\n",
    "for i in os.listdir(train_dir):\n",
    "    train_class = len(os.listdir(train_dir+'/'+i))\n",
    "    dic[int(i)] =  train_class\n",
    "    \n",
    "dic = dict(sorted(dic.items()))\n",
    "print(dic)"
   ]
  },
  {
   "cell_type": "code",
   "execution_count": 6,
   "id": "54e8128a",
   "metadata": {
    "scrolled": true
   },
   "outputs": [
    {
     "data": {
      "text/plain": [
       "39209"
      ]
     },
     "execution_count": 6,
     "metadata": {},
     "output_type": "execute_result"
    }
   ],
   "source": [
    "sum(dic.values())"
   ]
  },
  {
   "cell_type": "code",
   "execution_count": 7,
   "id": "c4637930",
   "metadata": {
    "scrolled": false
   },
   "outputs": [
    {
     "data": {
      "image/png": "[encoded data removed]",
      "text/plain": [
       "<Figure size 800x400 with 1 Axes>"
      ]
     },
     "metadata": {},
     "output_type": "display_data"
    }
   ],
   "source": [
    "plt.figure(figsize=(8,4))\n",
    "plt.bar(dic.keys(),dic.values())\n",
    "plt.xticks(np.arange(0,43,1),rotation = 'vertical')\n",
    "plt.show()"
   ]
  },
  {
   "cell_type": "code",
   "execution_count": 9,
   "id": "0c71437f",
   "metadata": {},
   "outputs": [],
   "source": [
    "image_data = []\n",
    "image_label = []\n",
    "\n",
    "data_path = \"E:/Northeastern Grad Studies/Fall 22 - Semester 1/SML - Prof. Honyang Zang/german_roadsign/Train/\"\n",
    "for i in os.listdir(train_dir):\n",
    "\n",
    "    for j in os.listdir(train_dir + '/' + str(i)):\n",
    "\n",
    "        path = \"E:/Northeastern Grad Studies/Fall 22 - Semester 1/SML - Prof. Honyang Zang/german_roadsign/Train/\" + str(i) + \"/\" + j\n",
    "\n",
    "        img = cv2.imread(path)\n",
    "        img = Image.fromarray(img, 'RGB').resize((64, 64))\n",
    "        img = np.array(img)\n",
    "\n",
    "        image_data.append(img)\n",
    "        image_label.append(i)\n",
    "        \n",
    "image_data_64 = np.array(image_data)\n",
    "image_label_64 = np.array(image_label)"
   ]
  },
  {
   "cell_type": "code",
   "execution_count": 10,
   "id": "9c194fbe",
   "metadata": {},
   "outputs": [],
   "source": [
    "x_train,x_val,y_train,y_val = train_test_split(image_data_64, image_label_64,test_size=0.2,random_state=10,stratify=image_label)"
   ]
  },
  {
   "cell_type": "code",
   "execution_count": 11,
   "id": "6c63a87e",
   "metadata": {
    "scrolled": true
   },
   "outputs": [
    {
     "data": {
      "text/plain": [
       "2     450\n",
       "1     444\n",
       "13    432\n",
       "12    420\n",
       "38    414\n",
       "10    402\n",
       "4     396\n",
       "5     372\n",
       "25    300\n",
       "9     294\n",
       "7     288\n",
       "3     282\n",
       "8     282\n",
       "11    264\n",
       "18    240\n",
       "35    240\n",
       "17    222\n",
       "14    156\n",
       "31    156\n",
       "33    138\n",
       "15    126\n",
       "26    120\n",
       "28    108\n",
       "23    102\n",
       "30     90\n",
       "16     84\n",
       "6      84\n",
       "34     84\n",
       "36     78\n",
       "22     78\n",
       "20     72\n",
       "40     72\n",
       "21     66\n",
       "39     60\n",
       "29     54\n",
       "24     54\n",
       "41     48\n",
       "42     48\n",
       "32     48\n",
       "27     48\n",
       "37     42\n",
       "19     42\n",
       "0      42\n",
       "dtype: int64"
      ]
     },
     "execution_count": 11,
     "metadata": {},
     "output_type": "execute_result"
    }
   ],
   "source": [
    "pd.DataFrame(y_val).value_counts()"
   ]
  },
  {
   "cell_type": "code",
   "execution_count": 12,
   "id": "f5a860b1",
   "metadata": {
    "scrolled": true
   },
   "outputs": [
    {
     "data": {
      "text/plain": [
       "<matplotlib.image.AxesImage at 0x13ddf8b1b80>"
      ]
     },
     "execution_count": 12,
     "metadata": {},
     "output_type": "execute_result"
    },
    {
     "data": {
      "image/png": "[encoded data removed]",
      "text/plain": [
       "<Figure size 640x480 with 1 Axes>"
      ]
     },
     "metadata": {},
     "output_type": "display_data"
    }
   ],
   "source": [
    "plt.imshow(x_train[0])"
   ]
  },
  {
   "cell_type": "code",
   "execution_count": 13,
   "id": "1ccc5e38",
   "metadata": {},
   "outputs": [],
   "source": [
    "datagen = ImageDataGenerator(\n",
    "    rotation_range=15,\n",
    "    width_shift_range=0.1,\n",
    "    height_shift_range=0.1,\n",
    "    shear_range=0.10,\n",
    "    zoom_range=0.15,\n",
    "    fill_mode='nearest')"
   ]
  },
  {
   "cell_type": "code",
   "execution_count": 14,
   "id": "4b9d508a",
   "metadata": {
    "scrolled": true
   },
   "outputs": [],
   "source": [
    "# doing onehot encoding of output \n",
    "y_train = keras.utils.to_categorical(y_train)\n",
    "y_val = keras.utils.to_categorical(y_val)\n",
    "\n",
    "x_train = x_train/255\n",
    "x_val = x_val/255"
   ]
  },
  {
   "cell_type": "code",
   "execution_count": 15,
   "id": "b5e6c99f",
   "metadata": {},
   "outputs": [
    {
     "data": {
      "text/plain": [
       "(31367, 64, 64, 3)"
      ]
     },
     "execution_count": 15,
     "metadata": {},
     "output_type": "execute_result"
    }
   ],
   "source": [
    "x_train.shape"
   ]
  },
  {
   "cell_type": "code",
   "execution_count": 16,
   "id": "605fa849",
   "metadata": {},
   "outputs": [
    {
     "data": {
      "text/plain": [
       "(31367, 43)"
      ]
     },
     "execution_count": 16,
     "metadata": {},
     "output_type": "execute_result"
    }
   ],
   "source": [
    "y_train.shape"
   ]
  },
  {
   "cell_type": "code",
   "execution_count": 17,
   "id": "dd6431b4",
   "metadata": {},
   "outputs": [
    {
     "data": {
      "text/plain": [
       "(7842, 64, 64, 3)"
      ]
     },
     "execution_count": 17,
     "metadata": {},
     "output_type": "execute_result"
    }
   ],
   "source": [
    "x_val.shape"
   ]
  },
  {
   "cell_type": "code",
   "execution_count": 18,
   "id": "18f45a95",
   "metadata": {},
   "outputs": [
    {
     "data": {
      "text/plain": [
       "(7842, 43)"
      ]
     },
     "execution_count": 18,
     "metadata": {},
     "output_type": "execute_result"
    }
   ],
   "source": [
    "y_val.shape"
   ]
  },
  {
   "cell_type": "code",
   "execution_count": 19,
   "id": "0a591149",
   "metadata": {},
   "outputs": [],
   "source": [
    "#ImageDataGenerator()"
   ]
  },
  {
   "cell_type": "code",
   "execution_count": 20,
   "id": "225c7ce7",
   "metadata": {},
   "outputs": [],
   "source": [
    "# Model building "
   ]
  },
  {
   "cell_type": "code",
   "execution_count": 21,
   "id": "d089bd93",
   "metadata": {},
   "outputs": [],
   "source": [
    "test_img_data = []\n",
    "\n",
    "test_path = \"E:/Northeastern Grad Studies/Fall 22 - Semester 1/SML - Prof. Honyang Zang/german_roadsign/Test/\"\n",
    "os.listdir(test_path)\n",
    "\n",
    "for i in os.listdir(test_path):\n",
    "\n",
    "    path = test_path + i\n",
    "    img = cv2.imread(path)\n",
    "    img = Image.fromarray(img, 'RGB').resize((64, 64))\n",
    "    img = np.array(img)\n",
    "\n",
    "    test_img_data.append(img)\n",
    "    #There could be error bcoz of the a excel file present in the test directory \n",
    "    #before runing this code make sure there is no other files except .png files  \n",
    "    \n",
    "test_img_data = np.array(test_img_data)\n",
    "test_img_data = test_img_data/255"
   ]
  },
  {
   "cell_type": "code",
   "execution_count": 23,
   "id": "a5909e43",
   "metadata": {},
   "outputs": [],
   "source": [
    "test_df = pd.read_csv(r'E:/Northeastern Grad Studies/Fall 22 - Semester 1/SML - Prof. Honyang Zang/german_roadsign/Test.csv')\n",
    "test_class = np.array(test_df['ClassId'])"
   ]
  },
  {
   "cell_type": "code",
   "execution_count": 24,
   "id": "ebf702c3",
   "metadata": {},
   "outputs": [
    {
     "data": {
      "text/plain": [
       "(12630, 64, 64, 3)"
      ]
     },
     "execution_count": 24,
     "metadata": {},
     "output_type": "execute_result"
    }
   ],
   "source": [
    "test_img_data.shape"
   ]
  },
  {
   "cell_type": "code",
   "execution_count": 25,
   "id": "ff8d8cdf",
   "metadata": {},
   "outputs": [
    {
     "data": {
      "text/plain": [
       "array([16,  1, 38, 33, 11, 38, 18, 12, 25, 35, 12,  7, 23,  7,  4,  9, 21,\n",
       "       20, 27, 38,  4, 33,  9,  3,  1, 11, 13, 10,  9, 11,  5, 17, 34, 23,\n",
       "        2, 17,  3, 12, 16,  8,  7, 30, 18, 12, 24, 25,  3, 10, 18,  8, 25,\n",
       "       13, 15,  9, 13, 35,  5, 26,  9, 16, 38, 10,  4,  9, 15,  9, 26,  2,\n",
       "        5, 28, 11, 25, 30, 34,  5, 12,  1, 10, 25, 25, 21, 33, 25,  7, 10,\n",
       "       35,  3,  7, 22, 13,  3,  1,  2, 14, 12, 32,  3, 38,  9, 33],\n",
       "      dtype=int64)"
      ]
     },
     "execution_count": 25,
     "metadata": {},
     "output_type": "execute_result"
    }
   ],
   "source": [
    "test_class[:100]"
   ]
  },
  {
   "cell_type": "markdown",
   "id": "2ac48e41",
   "metadata": {},
   "source": [
    "## Transfer Learning (VGG 16 Architecture)"
   ]
  },
  {
   "cell_type": "code",
   "execution_count": 26,
   "id": "e5b48317",
   "metadata": {},
   "outputs": [
    {
     "name": "stdout",
     "output_type": "stream",
     "text": [
      "Downloading data from https://storage.googleapis.com/tensorflow/keras-applications/vgg16/vgg16_weights_tf_dim_ordering_tf_kernels_notop.h5\n",
      "58889256/58889256 [==============================] - 3s 0us/step\n",
      "Model: \"model\"\n",
      "_________________________________________________________________\n",
      " Layer (type)                Output Shape              Param #   \n",
      "=================================================================\n",
      " input_1 (InputLayer)        [(None, 64, 64, 3)]       0         \n",
      "                                                                 \n",
      " block1_conv1 (Conv2D)       (None, 64, 64, 64)        1792      \n",
      "                                                                 \n",
      " block1_conv2 (Conv2D)       (None, 64, 64, 64)        36928     \n",
      "                                                                 \n",
      " block1_pool (MaxPooling2D)  (None, 32, 32, 64)        0         \n",
      "                                                                 \n",
      " block2_conv1 (Conv2D)       (None, 32, 32, 128)       73856     \n",
      "                                                                 \n",
      " block2_conv2 (Conv2D)       (None, 32, 32, 128)       147584    \n",
      "                                                                 \n",
      " block2_pool (MaxPooling2D)  (None, 16, 16, 128)       0         \n",
      "                                                                 \n",
      " block3_conv1 (Conv2D)       (None, 16, 16, 256)       295168    \n",
      "                                                                 \n",
      " block3_conv2 (Conv2D)       (None, 16, 16, 256)       590080    \n",
      "                                                                 \n",
      " block3_conv3 (Conv2D)       (None, 16, 16, 256)       590080    \n",
      "                                                                 \n",
      " block3_pool (MaxPooling2D)  (None, 8, 8, 256)         0         \n",
      "                                                                 \n",
      " block4_conv1 (Conv2D)       (None, 8, 8, 512)         1180160   \n",
      "                                                                 \n",
      " block4_conv2 (Conv2D)       (None, 8, 8, 512)         2359808   \n",
      "                                                                 \n",
      " block4_conv3 (Conv2D)       (None, 8, 8, 512)         2359808   \n",
      "                                                                 \n",
      " block4_pool (MaxPooling2D)  (None, 4, 4, 512)         0         \n",
      "                                                                 \n",
      " block5_conv1 (Conv2D)       (None, 4, 4, 512)         2359808   \n",
      "                                                                 \n",
      " block5_conv2 (Conv2D)       (None, 4, 4, 512)         2359808   \n",
      "                                                                 \n",
      " block5_conv3 (Conv2D)       (None, 4, 4, 512)         2359808   \n",
      "                                                                 \n",
      " block5_pool (MaxPooling2D)  (None, 2, 2, 512)         0         \n",
      "                                                                 \n",
      " sequential (Sequential)     (None, 43)                2645035   \n",
      "                                                                 \n",
      "=================================================================\n",
      "Total params: 17,359,723\n",
      "Trainable params: 2,645,035\n",
      "Non-trainable params: 14,714,688\n",
      "_________________________________________________________________\n"
     ]
    }
   ],
   "source": [
    "vgg16 = VGG16(input_shape=(64,64,3), weights='imagenet', include_top=False)\n",
    "\n",
    "for layer in vgg16.layers:\n",
    "    layer.trainable = False\n",
    "\n",
    "add_model = Sequential()\n",
    "add_model.add(Flatten(input_shape=vgg16.output_shape[1:]))\n",
    "\n",
    "add_model.add(Dense(1024, activation='relu'))\n",
    "\n",
    "add_model.add(Dense(512, activation='relu'))\n",
    "\n",
    "add_model.add(Dense(y_train.shape[1], activation='softmax'))\n",
    "\n",
    "model_vgg16 = Model(inputs=vgg16.input, outputs=add_model(vgg16.output))\n",
    "\n",
    "learning_rate = 0.0001\n",
    "def results(model):\n",
    "    adam = Adam(lr=learning_rate)\n",
    "\n",
    "    \n",
    "model_vgg16.compile(\n",
    "  loss='categorical_crossentropy',\n",
    "  optimizer='adam',\n",
    "  metrics=['accuracy']\n",
    ")\n",
    "\n",
    "model_vgg16.summary()"
   ]
  },
  {
   "cell_type": "code",
   "execution_count": 27,
   "id": "dea8b8e8",
   "metadata": {},
   "outputs": [
    {
     "name": "stdout",
     "output_type": "stream",
     "text": [
      "Epoch 1/5\n",
      "246/246 [==============================] - 391s 2s/step - loss: 1.5028 - accuracy: 0.5312 - val_loss: 0.9469 - val_accuracy: 0.6954\n",
      "Epoch 2/5\n",
      "246/246 [==============================] - 416s 2s/step - loss: 0.8516 - accuracy: 0.7202 - val_loss: 0.6260 - val_accuracy: 0.7950\n",
      "Epoch 3/5\n",
      "246/246 [==============================] - 419s 2s/step - loss: 0.6616 - accuracy: 0.7816 - val_loss: 0.5259 - val_accuracy: 0.8247\n",
      "Epoch 4/5\n",
      "246/246 [==============================] - 414s 2s/step - loss: 0.5399 - accuracy: 0.8198 - val_loss: 0.4339 - val_accuracy: 0.8596\n",
      "Epoch 5/5\n",
      "246/246 [==============================] - 421s 2s/step - loss: 0.4578 - accuracy: 0.8467 - val_loss: 0.3824 - val_accuracy: 0.8727\n"
     ]
    }
   ],
   "source": [
    "epochs = 20\n",
    "history = model_vgg16.fit(datagen.flow(x_train, y_train, batch_size=128), epochs=5,\n",
    "validation_data=(x_val, y_val))"
   ]
  },
  {
   "cell_type": "code",
   "execution_count": 28,
   "id": "acc3fa91",
   "metadata": {},
   "outputs": [
    {
     "name": "stdout",
     "output_type": "stream",
     "text": [
      "395/395 [==============================] - 142s 359ms/step\n"
     ]
    }
   ],
   "source": [
    "y_pred_prob = model_vgg16.predict(test_img_data)\n",
    "y_pred = np.argmax(y_pred_prob,axis=-1)"
   ]
  },
  {
   "cell_type": "code",
   "execution_count": 29,
   "id": "7fafb505",
   "metadata": {},
   "outputs": [],
   "source": [
    "accuracy_vgg16 = accuracy_score(test_class,y_pred)"
   ]
  },
  {
   "cell_type": "code",
   "execution_count": 30,
   "id": "10d3cfcf",
   "metadata": {
    "scrolled": true
   },
   "outputs": [
    {
     "name": "stdout",
     "output_type": "stream",
     "text": [
      "VGG16 model Accuracy score : 0.6602533650039588\n"
     ]
    }
   ],
   "source": [
    "print(f\"VGG16 model Accuracy score : {accuracy_vgg16}\")"
   ]
  },
  {
   "cell_type": "code",
   "execution_count": 31,
   "id": "72f151d3",
   "metadata": {},
   "outputs": [
    {
     "data": {
      "text/plain": [
       "array([[[[0.67843137, 0.54117647, 0.45098039],\n",
       "         [0.6745098 , 0.54117647, 0.45490196],\n",
       "         [0.66666667, 0.5372549 , 0.45490196],\n",
       "         ...,\n",
       "         [0.51764706, 0.41960784, 0.32941176],\n",
       "         [0.46666667, 0.37254902, 0.29411765],\n",
       "         [0.4       , 0.30980392, 0.23529412]],\n",
       "\n",
       "        [[0.69411765, 0.55686275, 0.4627451 ],\n",
       "         [0.69019608, 0.54901961, 0.45882353],\n",
       "         [0.68235294, 0.54509804, 0.45098039],\n",
       "         ...,\n",
       "         [0.63529412, 0.5254902 , 0.44313725],\n",
       "         [0.61568627, 0.50588235, 0.42745098],\n",
       "         [0.6       , 0.49019608, 0.41568627]],\n",
       "\n",
       "        [[0.69803922, 0.56078431, 0.45882353],\n",
       "         [0.69019608, 0.54901961, 0.45098039],\n",
       "         [0.68235294, 0.54509804, 0.44705882],\n",
       "         ...,\n",
       "         [0.6745098 , 0.55686275, 0.4745098 ],\n",
       "         [0.6627451 , 0.54901961, 0.47058824],\n",
       "         [0.6745098 , 0.54901961, 0.4745098 ]],\n",
       "\n",
       "        ...,\n",
       "\n",
       "        [[0.65490196, 0.53333333, 0.45098039],\n",
       "         [0.64705882, 0.53333333, 0.45098039],\n",
       "         [0.65098039, 0.52941176, 0.44705882],\n",
       "         ...,\n",
       "         [0.64705882, 0.5372549 , 0.45882353],\n",
       "         [0.65490196, 0.54509804, 0.44705882],\n",
       "         [0.6627451 , 0.54901961, 0.44313725]],\n",
       "\n",
       "        [[0.65490196, 0.52941176, 0.44313725],\n",
       "         [0.64705882, 0.52941176, 0.44313725],\n",
       "         [0.64705882, 0.5254902 , 0.43529412],\n",
       "         ...,\n",
       "         [0.65882353, 0.54117647, 0.45882353],\n",
       "         [0.66666667, 0.54509804, 0.44705882],\n",
       "         [0.67058824, 0.54901961, 0.43921569]],\n",
       "\n",
       "        [[0.65882353, 0.52941176, 0.43921569],\n",
       "         [0.65098039, 0.5254902 , 0.43137255],\n",
       "         [0.64705882, 0.52941176, 0.42745098],\n",
       "         ...,\n",
       "         [0.6627451 , 0.54509804, 0.45882353],\n",
       "         [0.67058824, 0.54509804, 0.45490196],\n",
       "         [0.6745098 , 0.54901961, 0.45098039]]],\n",
       "\n",
       "\n",
       "       [[[0.23921569, 0.26666667, 0.20784314],\n",
       "         [0.24705882, 0.29411765, 0.2627451 ],\n",
       "         [0.25490196, 0.32156863, 0.32941176],\n",
       "         ...,\n",
       "         [0.2627451 , 0.25882353, 0.25490196],\n",
       "         [0.26666667, 0.26666667, 0.27058824],\n",
       "         [0.27058824, 0.27058824, 0.28627451]],\n",
       "\n",
       "        [[0.22745098, 0.25882353, 0.20392157],\n",
       "         [0.23921569, 0.29019608, 0.2627451 ],\n",
       "         [0.25490196, 0.3254902 , 0.3372549 ],\n",
       "         ...,\n",
       "         [0.26666667, 0.26666667, 0.29411765],\n",
       "         [0.27058824, 0.27058824, 0.29803922],\n",
       "         [0.26666667, 0.27058824, 0.30196078]],\n",
       "\n",
       "        [[0.21568627, 0.25098039, 0.2       ],\n",
       "         [0.23529412, 0.29019608, 0.26666667],\n",
       "         [0.25882353, 0.33333333, 0.35686275],\n",
       "         ...,\n",
       "         [0.27058824, 0.27058824, 0.35294118],\n",
       "         [0.27058824, 0.27058824, 0.3372549 ],\n",
       "         [0.26666667, 0.27058824, 0.31764706]],\n",
       "\n",
       "        ...,\n",
       "\n",
       "        [[0.16470588, 0.16078431, 0.17254902],\n",
       "         [0.20392157, 0.20784314, 0.23137255],\n",
       "         [0.25098039, 0.2627451 , 0.30196078],\n",
       "         ...,\n",
       "         [0.2627451 , 0.2627451 , 0.27843137],\n",
       "         [0.2627451 , 0.2627451 , 0.28235294],\n",
       "         [0.2627451 , 0.26666667, 0.28627451]],\n",
       "\n",
       "        [[0.16078431, 0.15686275, 0.17254902],\n",
       "         [0.20392157, 0.20392157, 0.23137255],\n",
       "         [0.25098039, 0.25882353, 0.30196078],\n",
       "         ...,\n",
       "         [0.2745098 , 0.27058824, 0.29019608],\n",
       "         [0.2745098 , 0.2745098 , 0.29411765],\n",
       "         [0.27058824, 0.27058824, 0.29019608]],\n",
       "\n",
       "        [[0.15686275, 0.15294118, 0.17254902],\n",
       "         [0.2       , 0.20392157, 0.23137255],\n",
       "         [0.24705882, 0.25882353, 0.30196078],\n",
       "         ...,\n",
       "         [0.28235294, 0.2745098 , 0.29803922],\n",
       "         [0.28235294, 0.27843137, 0.29803922],\n",
       "         [0.27843137, 0.27843137, 0.29411765]]],\n",
       "\n",
       "\n",
       "       [[[0.14117647, 0.14901961, 0.19607843],\n",
       "         [0.14509804, 0.15294118, 0.19607843],\n",
       "         [0.14901961, 0.15294118, 0.19607843],\n",
       "         ...,\n",
       "         [0.18823529, 0.17647059, 0.21568627],\n",
       "         [0.18823529, 0.17647059, 0.21568627],\n",
       "         [0.19215686, 0.18039216, 0.21568627]],\n",
       "\n",
       "        [[0.15686275, 0.16470588, 0.21568627],\n",
       "         [0.15294118, 0.16470588, 0.21176471],\n",
       "         [0.15294118, 0.16078431, 0.20784314],\n",
       "         ...,\n",
       "         [0.18431373, 0.17254902, 0.20784314],\n",
       "         [0.18431373, 0.17254902, 0.20784314],\n",
       "         [0.18431373, 0.17647059, 0.21176471]],\n",
       "\n",
       "        [[0.16470588, 0.17647059, 0.22745098],\n",
       "         [0.16470588, 0.17647059, 0.22745098],\n",
       "         [0.16078431, 0.17254902, 0.22745098],\n",
       "         ...,\n",
       "         [0.18039216, 0.17647059, 0.21176471],\n",
       "         [0.18039216, 0.17647059, 0.21176471],\n",
       "         [0.18039216, 0.18039216, 0.21568627]],\n",
       "\n",
       "        ...,\n",
       "\n",
       "        [[0.11764706, 0.11372549, 0.12941176],\n",
       "         [0.12941176, 0.1254902 , 0.14117647],\n",
       "         [0.13333333, 0.12941176, 0.15294118],\n",
       "         ...,\n",
       "         [0.16862745, 0.17254902, 0.17647059],\n",
       "         [0.18039216, 0.18039216, 0.18823529],\n",
       "         [0.18039216, 0.18431373, 0.19215686]],\n",
       "\n",
       "        [[0.12156863, 0.11764706, 0.13333333],\n",
       "         [0.13333333, 0.12941176, 0.14509804],\n",
       "         [0.1254902 , 0.12156863, 0.14901961],\n",
       "         ...,\n",
       "         [0.16862745, 0.16862745, 0.17254902],\n",
       "         [0.17254902, 0.17647059, 0.18431373],\n",
       "         [0.17647059, 0.18431373, 0.19215686]],\n",
       "\n",
       "        [[0.10980392, 0.10588235, 0.11372549],\n",
       "         [0.10980392, 0.10588235, 0.11764706],\n",
       "         [0.10588235, 0.10196078, 0.12156863],\n",
       "         ...,\n",
       "         [0.17254902, 0.17254902, 0.17647059],\n",
       "         [0.17254902, 0.18039216, 0.18431373],\n",
       "         [0.16862745, 0.18039216, 0.18431373]]],\n",
       "\n",
       "\n",
       "       ...,\n",
       "\n",
       "\n",
       "       [[[0.13333333, 0.10588235, 0.09411765],\n",
       "         [0.13333333, 0.10588235, 0.09411765],\n",
       "         [0.12941176, 0.10196078, 0.09019608],\n",
       "         ...,\n",
       "         [0.13333333, 0.10588235, 0.10196078],\n",
       "         [0.13333333, 0.10588235, 0.10196078],\n",
       "         [0.13333333, 0.10588235, 0.10196078]],\n",
       "\n",
       "        [[0.13333333, 0.10588235, 0.09411765],\n",
       "         [0.13333333, 0.10588235, 0.09411765],\n",
       "         [0.12941176, 0.10196078, 0.09019608],\n",
       "         ...,\n",
       "         [0.13333333, 0.10588235, 0.10196078],\n",
       "         [0.13333333, 0.10588235, 0.10196078],\n",
       "         [0.13333333, 0.10588235, 0.10196078]],\n",
       "\n",
       "        [[0.12941176, 0.10196078, 0.09803922],\n",
       "         [0.12941176, 0.10196078, 0.09803922],\n",
       "         [0.13333333, 0.10196078, 0.09411765],\n",
       "         ...,\n",
       "         [0.1372549 , 0.10588235, 0.10588235],\n",
       "         [0.1372549 , 0.10980392, 0.10588235],\n",
       "         [0.1372549 , 0.10980392, 0.10588235]],\n",
       "\n",
       "        ...,\n",
       "\n",
       "        [[0.08627451, 0.06666667, 0.0627451 ],\n",
       "         [0.08627451, 0.06666667, 0.0627451 ],\n",
       "         [0.08235294, 0.0627451 , 0.05882353],\n",
       "         ...,\n",
       "         [0.1254902 , 0.08627451, 0.07843137],\n",
       "         [0.1254902 , 0.08627451, 0.0745098 ],\n",
       "         [0.1254902 , 0.08627451, 0.0745098 ]],\n",
       "\n",
       "        [[0.08235294, 0.0627451 , 0.05882353],\n",
       "         [0.08235294, 0.0627451 , 0.05882353],\n",
       "         [0.08235294, 0.0627451 , 0.05882353],\n",
       "         ...,\n",
       "         [0.1254902 , 0.08627451, 0.0745098 ],\n",
       "         [0.12156863, 0.08627451, 0.07058824],\n",
       "         [0.12156863, 0.08627451, 0.07058824]],\n",
       "\n",
       "        [[0.08235294, 0.0627451 , 0.05882353],\n",
       "         [0.08235294, 0.0627451 , 0.05882353],\n",
       "         [0.08235294, 0.0627451 , 0.05882353],\n",
       "         ...,\n",
       "         [0.1254902 , 0.08627451, 0.0745098 ],\n",
       "         [0.12156863, 0.08627451, 0.07058824],\n",
       "         [0.12156863, 0.08627451, 0.07058824]]],\n",
       "\n",
       "\n",
       "       [[[0.29019608, 0.23529412, 0.18431373],\n",
       "         [0.29803922, 0.22352941, 0.18431373],\n",
       "         [0.29803922, 0.22352941, 0.19215686],\n",
       "         ...,\n",
       "         [0.04313725, 0.03137255, 0.03921569],\n",
       "         [0.04705882, 0.03529412, 0.03921569],\n",
       "         [0.04705882, 0.03529412, 0.03921569]],\n",
       "\n",
       "        [[0.28627451, 0.23137255, 0.18431373],\n",
       "         [0.26666667, 0.20784314, 0.17647059],\n",
       "         [0.23529412, 0.18431373, 0.16470588],\n",
       "         ...,\n",
       "         [0.04313725, 0.03137255, 0.03921569],\n",
       "         [0.04313725, 0.03529412, 0.03921569],\n",
       "         [0.04705882, 0.03529412, 0.03921569]],\n",
       "\n",
       "        [[0.30980392, 0.25490196, 0.21176471],\n",
       "         [0.28627451, 0.23529412, 0.21176471],\n",
       "         [0.24705882, 0.2       , 0.2       ],\n",
       "         ...,\n",
       "         [0.03529412, 0.03137255, 0.03921569],\n",
       "         [0.04313725, 0.03529412, 0.03921569],\n",
       "         [0.04705882, 0.03529412, 0.03921569]],\n",
       "\n",
       "        ...,\n",
       "\n",
       "        [[0.05490196, 0.04313725, 0.04705882],\n",
       "         [0.05882353, 0.04705882, 0.05098039],\n",
       "         [0.05490196, 0.04705882, 0.05098039],\n",
       "         ...,\n",
       "         [0.14901961, 0.14117647, 0.1372549 ],\n",
       "         [0.11372549, 0.1254902 , 0.12156863],\n",
       "         [0.07058824, 0.09411765, 0.10196078]],\n",
       "\n",
       "        [[0.05490196, 0.04313725, 0.04705882],\n",
       "         [0.05882353, 0.04313725, 0.04705882],\n",
       "         [0.05882353, 0.04313725, 0.04705882],\n",
       "         ...,\n",
       "         [0.15294118, 0.14509804, 0.14509804],\n",
       "         [0.11372549, 0.1254902 , 0.1254902 ],\n",
       "         [0.06666667, 0.09019608, 0.10196078]],\n",
       "\n",
       "        [[0.05490196, 0.04313725, 0.04705882],\n",
       "         [0.0627451 , 0.04705882, 0.05098039],\n",
       "         [0.0627451 , 0.04705882, 0.05098039],\n",
       "         ...,\n",
       "         [0.15686275, 0.14901961, 0.14901961],\n",
       "         [0.11764706, 0.1254902 , 0.12941176],\n",
       "         [0.06666667, 0.09019608, 0.10196078]]],\n",
       "\n",
       "\n",
       "       [[[0.05098039, 0.03921569, 0.03921569],\n",
       "         [0.05098039, 0.03921569, 0.03921569],\n",
       "         [0.05098039, 0.03921569, 0.03921569],\n",
       "         ...,\n",
       "         [0.05882353, 0.04705882, 0.05098039],\n",
       "         [0.0627451 , 0.04705882, 0.05098039],\n",
       "         [0.0627451 , 0.04705882, 0.05098039]],\n",
       "\n",
       "        [[0.05098039, 0.03921569, 0.03921569],\n",
       "         [0.05098039, 0.03921569, 0.03921569],\n",
       "         [0.05098039, 0.03921569, 0.03921569],\n",
       "         ...,\n",
       "         [0.05882353, 0.04705882, 0.05098039],\n",
       "         [0.0627451 , 0.04705882, 0.05098039],\n",
       "         [0.0627451 , 0.04705882, 0.05098039]],\n",
       "\n",
       "        [[0.05490196, 0.04313725, 0.04705882],\n",
       "         [0.05490196, 0.04313725, 0.04313725],\n",
       "         [0.04705882, 0.03529412, 0.03921569],\n",
       "         ...,\n",
       "         [0.05882353, 0.04705882, 0.05098039],\n",
       "         [0.0627451 , 0.04705882, 0.05098039],\n",
       "         [0.0627451 , 0.04705882, 0.05098039]],\n",
       "\n",
       "        ...,\n",
       "\n",
       "        [[0.05490196, 0.03921569, 0.04313725],\n",
       "         [0.05490196, 0.03921569, 0.04313725],\n",
       "         [0.05490196, 0.03921569, 0.04313725],\n",
       "         ...,\n",
       "         [0.04313725, 0.03529412, 0.03921569],\n",
       "         [0.05098039, 0.04313725, 0.04313725],\n",
       "         [0.05098039, 0.04313725, 0.04705882]],\n",
       "\n",
       "        [[0.05098039, 0.03921569, 0.03921569],\n",
       "         [0.05098039, 0.03921569, 0.03921569],\n",
       "         [0.04705882, 0.03529412, 0.03921569],\n",
       "         ...,\n",
       "         [0.04705882, 0.03921569, 0.03529412],\n",
       "         [0.05098039, 0.04313725, 0.04313725],\n",
       "         [0.05098039, 0.04313725, 0.04313725]],\n",
       "\n",
       "        [[0.05098039, 0.03921569, 0.03921569],\n",
       "         [0.05098039, 0.03921569, 0.03921569],\n",
       "         [0.04705882, 0.03529412, 0.03921569],\n",
       "         ...,\n",
       "         [0.04705882, 0.03921569, 0.03529412],\n",
       "         [0.05098039, 0.04313725, 0.04313725],\n",
       "         [0.05098039, 0.04313725, 0.04313725]]]])"
      ]
     },
     "execution_count": 31,
     "metadata": {},
     "output_type": "execute_result"
    }
   ],
   "source": [
    "test_img_data"
   ]
  },
  {
   "cell_type": "markdown",
   "id": "ffd6531d",
   "metadata": {},
   "source": [
    "## Transfer learning(ResNet 50 Architecture)"
   ]
  },
  {
   "cell_type": "code",
   "execution_count": null,
   "id": "739a3503",
   "metadata": {},
   "outputs": [],
   "source": [
    "resnet_50 = keras.applications.resnet50.ResNet50(input_shape=(64,64,3), weights='imagenet', include_top=False)\n",
    "\n",
    "for layer in resnet_50.layers:\n",
    "    layer.trainable = False\n",
    "\n",
    "add_model = Sequential()\n",
    "add_model.add(Flatten(input_shape=resnet_50.output_shape[1:]))\n",
    "\n",
    "add_model.add(Dense(1024, activation='relu'))\n",
    "\n",
    "add_model.add(Dense(512, activation='relu'))\n",
    "\n",
    "add_model.add(Dense(y_train.shape[1], activation='softmax'))\n",
    "\n",
    "model_resnet_50 = Model(inputs=resnet_50.input, outputs=add_model(resnet_50.output))\n",
    "\n",
    "learning_rate = 0.0001\n",
    "def results(model):\n",
    "    adam = Adam(lr=learning_rate)\n",
    "\n",
    "    \n",
    "model_resnet_50.compile(\n",
    "  loss='categorical_crossentropy',\n",
    "  optimizer='adam',\n",
    "  metrics=['accuracy']\n",
    ")\n",
    "\n",
    "model_resnet_50.summary()"
   ]
  },
  {
   "cell_type": "code",
   "execution_count": null,
   "id": "0b188ec4",
   "metadata": {},
   "outputs": [],
   "source": [
    "epochs = 20\n",
    "with tf.device('/GPU:0'):\n",
    "    history = model_resnet_50.fit(datagen.flow(x_train, y_train, batch_size=128), epochs=epochs,\n",
    "    validation_data=(x_val, y_val))"
   ]
  },
  {
   "cell_type": "code",
   "execution_count": null,
   "id": "fd677c08",
   "metadata": {},
   "outputs": [],
   "source": [
    "y_pred_prob = model_resnet_50.predict(test_img_data)\n",
    "y_pred = np.argmax(y_pred_prob,axis=-1)"
   ]
  },
  {
   "cell_type": "code",
   "execution_count": null,
   "id": "42faa6b5",
   "metadata": {},
   "outputs": [],
   "source": [
    "accuracy_resnet50 = accuracy_score(test_class,y_pred)"
   ]
  },
  {
   "cell_type": "code",
   "execution_count": null,
   "id": "ff121204",
   "metadata": {},
   "outputs": [],
   "source": [
    "print(f\"Resnet50 model Accuracy score : {accuracy_resnet50}\")"
   ]
  },
  {
   "cell_type": "markdown",
   "id": "0ef9eaa6",
   "metadata": {},
   "source": [
    "## Transfer Learning (InceptionV3)"
   ]
  },
  {
   "cell_type": "code",
   "execution_count": null,
   "id": "28cfb849",
   "metadata": {},
   "outputs": [],
   "source": [
    "inc_v3 = keras.applications.inception_v3.InceptionV3(input_shape=(64,64,3), weights='imagenet', include_top=False)\n",
    "\n",
    "for layer in inc_v3.layers:\n",
    "    layer.trainable = False\n",
    "    \n",
    "add_model = Sequential()\n",
    "add_model.add(Flatten(input_shape=inc_v3.output_shape[1:]))\n",
    "\n",
    "add_model.add(Dense(1024, activation='relu'))\n",
    "\n",
    "add_model.add(Dense(512, activation='relu'))\n",
    "\n",
    "add_model.add(Dense(y_train.shape[1], activation='softmax'))\n",
    "\n",
    "model_inc_v3 = Model(inputs=inc_v3.input, outputs=add_model(inc_v3.output))\n",
    "\n",
    "learning_rate = 0.0001\n",
    "def results(model):\n",
    "    adam = Adam(lr=learning_rate)\n",
    "\n",
    "    \n",
    "model_inc_v3.compile(\n",
    "  loss='categorical_crossentropy',\n",
    "  optimizer='adam',\n",
    "  metrics=['accuracy']\n",
    ")\n",
    "\n",
    "model_inc_v3.summary()"
   ]
  },
  {
   "cell_type": "code",
   "execution_count": null,
   "id": "92727e86",
   "metadata": {},
   "outputs": [],
   "source": [
    "epochs = 20\n",
    "with tf.device('/GPU:0'):\n",
    "    history = model_inc_v3.fit(datagen.flow(x_train, y_train, batch_size=128), epochs=epochs,\n",
    "    validation_data=(x_val, y_val))"
   ]
  },
  {
   "cell_type": "code",
   "execution_count": null,
   "id": "961eab5a",
   "metadata": {},
   "outputs": [],
   "source": [
    "y_pred_prob = model_inc_v3.predict(test_img_data)\n",
    "y_pred = np.argmax(y_pred_prob,axis=-1)"
   ]
  },
  {
   "cell_type": "code",
   "execution_count": null,
   "id": "245a1276",
   "metadata": {},
   "outputs": [],
   "source": [
    "accuracy_inc_v3 = accuracy_score(test_class,y_pred)"
   ]
  },
  {
   "cell_type": "code",
   "execution_count": null,
   "id": "e87269c2",
   "metadata": {},
   "outputs": [],
   "source": [
    "print(f\"InceptionV3 Model Accuracy score : {accuracy_inc_v3}\")"
   ]
  },
  {
   "cell_type": "markdown",
   "id": "a0afd606",
   "metadata": {},
   "source": [
    "## Transfer Learning (EfficientNetB0)"
   ]
  },
  {
   "cell_type": "code",
   "execution_count": null,
   "id": "83e4addf",
   "metadata": {},
   "outputs": [],
   "source": [
    "eff_net_b0 = keras.applications.efficientnet.EfficientNetB0(input_shape=(64,64,3), weights='imagenet', include_top=False)\n",
    "\n",
    "\n",
    "for layer in eff_net_b0.layers:\n",
    "    layer.trainable = False\n",
    "    \n",
    "    \n",
    "    \n",
    "add_model = Sequential()\n",
    "add_model.add(Flatten(input_shape=eff_net_b0.output_shape[1:]))\n",
    "\n",
    "add_model.add(Dense(1024, activation='relu'))\n",
    "\n",
    "add_model.add(Dense(512, activation='relu'))\n",
    "\n",
    "add_model.add(Dense(y_train.shape[1], activation='softmax'))\n",
    "\n",
    "model_eff_net_b0 = Model(inputs=eff_net_b0.input, outputs=add_model(eff_net_b0.output))\n",
    "\n",
    "learning_rate = 0.0001\n",
    "def results(model):\n",
    "    adam = Adam(lr=learning_rate)\n",
    "\n",
    "    \n",
    "model_eff_net_b0.compile(\n",
    "  loss='categorical_crossentropy',\n",
    "  optimizer='adam',\n",
    "  metrics=['accuracy']\n",
    ")\n",
    "\n",
    "model_eff_net_b0.summary()"
   ]
  },
  {
   "cell_type": "code",
   "execution_count": null,
   "id": "67f53c6b",
   "metadata": {},
   "outputs": [],
   "source": [
    "epochs = 20\n",
    "with tf.device('/GPU:0'):\n",
    "    history = model_eff_net_b0.fit(datagen.flow(x_train, y_train, batch_size=128), epochs=epochs,\n",
    "    validation_data=(x_val, y_val))"
   ]
  },
  {
   "cell_type": "code",
   "execution_count": null,
   "id": "0f4c40cc",
   "metadata": {},
   "outputs": [],
   "source": [
    "y_pred_prob = model_eff_net_b0.predict(test_img_data)\n",
    "y_pred = np.argmax(y_pred_prob,axis=-1)"
   ]
  },
  {
   "cell_type": "code",
   "execution_count": null,
   "id": "a976d2f7",
   "metadata": {},
   "outputs": [],
   "source": [
    "accuracy_eff_net_b0 = accuracy_score(test_class,y_pred)"
   ]
  },
  {
   "cell_type": "code",
   "execution_count": null,
   "id": "6e813040",
   "metadata": {},
   "outputs": [],
   "source": [
    "print(f\"EfficientNetB0 Model Accuracy score : {accuracy_eff_net_b0}\")"
   ]
  },
  {
   "cell_type": "markdown",
   "id": "492f865b",
   "metadata": {},
   "source": [
    "## Transfer Learning (MobileNetV2)"
   ]
  },
  {
   "cell_type": "code",
   "execution_count": null,
   "id": "61d7b8fb",
   "metadata": {},
   "outputs": [],
   "source": [
    "mob_net_v2 = keras.applications.mobilenet_v2.MobileNetV2(input_shape=(64,64,3), weights='imagenet', include_top=False)\n",
    "\n",
    "\n",
    "for layer in mob_net_v2.layers:\n",
    "    layer.trainable = False\n",
    "    \n",
    "    \n",
    "add_model = Sequential()\n",
    "add_model.add(Flatten(input_shape=mob_net_v2.output_shape[1:]))\n",
    "\n",
    "add_model.add(Dense(1024, activation='relu'))\n",
    "\n",
    "add_model.add(Dense(512, activation='relu'))\n",
    "\n",
    "add_model.add(Dense(y_train.shape[1], activation='softmax'))\n",
    "\n",
    "model_mob_net_v2 = Model(inputs=mob_net_v2.input, outputs=add_model(mob_net_v2.output))\n",
    "\n",
    "learning_rate = 0.0001\n",
    "def results(model):\n",
    "    adam = Adam(lr=learning_rate)\n",
    "\n",
    "    \n",
    "model_mob_net_v2.compile(\n",
    "  loss='categorical_crossentropy',\n",
    "  optimizer='adam',\n",
    "  metrics=['accuracy']\n",
    ")\n",
    "\n",
    "model_mob_net_v2.summary()"
   ]
  },
  {
   "cell_type": "code",
   "execution_count": null,
   "id": "3f31059c",
   "metadata": {},
   "outputs": [],
   "source": [
    "epochs = 20\n",
    "with tf.device('/GPU:0'):\n",
    "    history = model_mob_net_v2.fit(datagen.flow(x_train, y_train, batch_size=128), epochs=epochs,\n",
    "    validation_data=(x_val, y_val))"
   ]
  },
  {
   "cell_type": "code",
   "execution_count": null,
   "id": "3ce56f32",
   "metadata": {},
   "outputs": [],
   "source": [
    "accuracy_mob_net_v2 = accuracy_score(test_class,y_pred)"
   ]
  },
  {
   "cell_type": "code",
   "execution_count": null,
   "id": "89a44069",
   "metadata": {},
   "outputs": [],
   "source": [
    "print(f\"MobileNetB0 Model Accuracy score : {accuracy_mob_net_v2}\")"
   ]
  },
  {
   "cell_type": "markdown",
   "id": "f47b7860",
   "metadata": {},
   "source": [
    "## Transfer Learning (DenseNet121)"
   ]
  },
  {
   "cell_type": "code",
   "execution_count": null,
   "id": "c6c3ea3c",
   "metadata": {},
   "outputs": [],
   "source": [
    "dense_net_121 = keras.applications.densenet.DenseNet121(input_shape=(64,64,3), weights='imagenet', include_top=False)\n",
    "\n",
    "\n",
    "for layer in dense_net_121.layers:\n",
    "    layer.trainable = False\n",
    "    \n",
    "    \n",
    "add_model = Sequential()\n",
    "add_model.add(Flatten(input_shape=dense_net_121.output_shape[1:]))\n",
    "\n",
    "add_model.add(Dense(1024, activation='relu'))\n",
    "\n",
    "add_model.add(Dense(512, activation='relu'))\n",
    "\n",
    "add_model.add(Dense(y_train.shape[1], activation='softmax'))\n",
    "\n",
    "model_dense_net_121 = Model(inputs=dense_net_121.input, outputs=add_model(dense_net_121.output))\n",
    "\n",
    "learning_rate = 0.0001\n",
    "def results(model):\n",
    "    adam = Adam(lr=learning_rate)\n",
    "\n",
    "    \n",
    "model_dense_net_121.compile(\n",
    "  loss='categorical_crossentropy',\n",
    "  optimizer='adam',\n",
    "  metrics=['accuracy']\n",
    ")\n",
    "\n",
    "model_dense_net_121.summary()"
   ]
  },
  {
   "cell_type": "code",
   "execution_count": null,
   "id": "946bca0e",
   "metadata": {},
   "outputs": [],
   "source": [
    "epochs = 20\n",
    "with tf.device('/GPU:0'):\n",
    "    history = model_dense_net_121.fit(datagen.flow(x_train, y_train, batch_size=128), epochs=epochs,\n",
    "    validation_data=(x_val, y_val))"
   ]
  },
  {
   "cell_type": "code",
   "execution_count": null,
   "id": "c90d6900",
   "metadata": {},
   "outputs": [],
   "source": [
    "accuracy_dense_net_121 = accuracy_score(test_class,y_pred)"
   ]
  },
  {
   "cell_type": "code",
   "execution_count": null,
   "id": "23a86b35",
   "metadata": {},
   "outputs": [],
   "source": [
    "print(f\"DenseNet121 Model Accuracy score : {accuracy_dense_net_121}\")"
   ]
  },
  {
   "cell_type": "markdown",
   "id": "832af524",
   "metadata": {},
   "source": [
    "## Visualizing all the transfer learning model accuracies"
   ]
  },
  {
   "cell_type": "code",
   "execution_count": null,
   "id": "307c81f9",
   "metadata": {},
   "outputs": [],
   "source": [
    "result_df = pd.DataFrame({'Transfer_Learning_Models':['VGG16','Resnet50','Inception_V3','EfficientNetB0','MobileNetV2','DenseNet121'],\n",
    "                                          'Accuracies' : [accuracy_vgg16,accuracy_resnet50,\n",
    "                                                          accuracy_eff_net_b0,accuracy_mobile_net_v2,\n",
    "                                                          accuracy_dense_net_121]}\n",
    "result_df"
   ]
  },
  {
   "cell_type": "markdown",
   "id": "21306647",
   "metadata": {},
   "source": [
    "## Custom Model"
   ]
  },
  {
   "cell_type": "code",
   "execution_count": null,
   "id": "f9a5847e",
   "metadata": {},
   "outputs": [],
   "source": [
    "DEMO"
   ]
  },
  {
   "cell_type": "code",
   "execution_count": null,
   "id": "d707780b",
   "metadata": {},
   "outputs": [],
   "source": [
    "model1 = Sequential([\n",
    "    Conv2D(filters=64,kernel_size=[5,5],activation='relu',padding='same'),\n",
    "    MaxPooling2D(pool_size=(2,2)),\n",
    "    BatchNormalization(),\n",
    "    Conv2D(filters=128, kernel_size=[3,3],activation='relu',padding='same'),\n",
    "    MaxPooling2D(pool_size=(2,2)),\n",
    "    BatchNormalization(),\n",
    "    \n",
    "    Flatten(),\n",
    "    Dense(500, activation='relu'),\n",
    "    Dropout(0.2),\n",
    "    Dense(43,activation='softmax')  \n",
    "])\n",
    "\n",
    "model1.compile(optimizer=keras.optimizers.Adam(), loss='categorical_crossentropy',metrics='accuracy')"
   ]
  },
  {
   "cell_type": "code",
   "execution_count": null,
   "id": "f58a3de7",
   "metadata": {
    "scrolled": true
   },
   "outputs": [],
   "source": [
    "model1.fit(datagen.flow(x_train, y_train, batch_size=128),epochs=12,validation_data = (x_val,y_val))"
   ]
  },
  {
   "cell_type": "code",
   "execution_count": null,
   "id": "f71e9275",
   "metadata": {
    "scrolled": true
   },
   "outputs": [],
   "source": [
    "y_pred = model1.predict(x_val)"
   ]
  },
  {
   "cell_type": "code",
   "execution_count": null,
   "id": "41029843",
   "metadata": {},
   "outputs": [],
   "source": [
    "model1.summary()"
   ]
  },
  {
   "cell_type": "code",
   "execution_count": null,
   "id": "7e32d7de",
   "metadata": {
    "scrolled": true
   },
   "outputs": [],
   "source": [
    "# model1.save('road_sign_detection')"
   ]
  },
  {
   "cell_type": "code",
   "execution_count": null,
   "id": "0a1e6bad",
   "metadata": {},
   "outputs": [],
   "source": [
    "ss = keras.models.load_model(r'D:\\anaconda3\\My_Projects\\NORTHEASTERN UNIVERSITY (ASSIGNMENTS & OTHER WORK)\\SML\\Untitled Folder\\road_sign_detection')\n",
    "ss.summary()"
   ]
  },
  {
   "cell_type": "code",
   "execution_count": null,
   "id": "fbc30f6a",
   "metadata": {
    "scrolled": true
   },
   "outputs": [],
   "source": [
    "from sklearn.metrics import accuracy_score, classification_report\n",
    "\n",
    "pd.DataFrame(classification_report(y_val.argmax(axis=-1),y_pred.argmax(axis=-1),output_dict = True)).transpose()"
   ]
  },
  {
   "cell_type": "code",
   "execution_count": null,
   "id": "525aecba",
   "metadata": {},
   "outputs": [],
   "source": [
    "### Testing Data "
   ]
  },
  {
   "cell_type": "code",
   "execution_count": null,
   "id": "18e87c7e",
   "metadata": {
    "scrolled": true
   },
   "outputs": [],
   "source": [
    "test_img_data = []\n",
    "\n",
    "test_path = \"E:/Northeastern Grad Studies/Fall 22 - Semester 1/SML - Prof. Honyang Zang/german_roadsign/Test/\"\n",
    "os.listdir(test_path)\n",
    "\n",
    "for i in os.listdir(test_path):\n",
    "\n",
    "    path = test_path+ i\n",
    "    \n",
    "    img = cv2.imread(path)\n",
    "    img = Image.fromarray(img, 'RGB').resize((64, 64))\n",
    "    img = np.array(img)\n",
    "\n",
    "    test_img_data.append(img)\n",
    "    #There could be error bcoz of the a excel file present in the test directory \n",
    "    #before runing this code make sure there is no other files except .png files  \n",
    "    \n",
    "test_img_data = np.array(test_img_data)\n",
    "test_img_data = test_img_data/255"
   ]
  },
  {
   "cell_type": "code",
   "execution_count": null,
   "id": "bbae7369",
   "metadata": {},
   "outputs": [],
   "source": [
    "test_df = pd.read_csv(r'E:\\Northeastern Grad Studies\\Fall 22 - Semester 1\\SML - Prof. Honyang Zang\\german_roadsign\\Test.csv')\n",
    "test_class = np.array(test_df['ClassId'])"
   ]
  },
  {
   "cell_type": "code",
   "execution_count": null,
   "id": "e1597cf8",
   "metadata": {
    "scrolled": true
   },
   "outputs": [],
   "source": [
    "y_pred_prob = model1.predict(test_img_data)\n",
    "y_pred = np.argmax(y_pred_prob,axis=-1)"
   ]
  },
  {
   "cell_type": "code",
   "execution_count": null,
   "id": "040f60d0",
   "metadata": {
    "scrolled": true
   },
   "outputs": [],
   "source": [
    "accuracy_score(test_class,y_pred)"
   ]
  },
  {
   "cell_type": "code",
   "execution_count": null,
   "id": "672f01b5",
   "metadata": {},
   "outputs": [],
   "source": [
    "pd.DataFrame(classification_report(test_class,y_pred, output_dict = True)).transpose()"
   ]
  },
  {
   "cell_type": "code",
   "execution_count": null,
   "id": "a6e2e278",
   "metadata": {},
   "outputs": [],
   "source": [
    "## Work on this \n",
    "\n",
    "#train_datagen = \n",
    "ImageDataGenerator(rescale=1./255)"
   ]
  },
  {
   "cell_type": "code",
   "execution_count": null,
   "id": "ef3ebb3b",
   "metadata": {},
   "outputs": [],
   "source": []
  },
  {
   "cell_type": "code",
   "execution_count": null,
   "id": "5d62d1d8",
   "metadata": {},
   "outputs": [],
   "source": []
  }
 ],
 "metadata": {
  "kernelspec": {
   "display_name": "Python 3 (ipykernel)",
   "language": "python",
   "name": "python3"
  },
  "language_info": {
   "codemirror_mode": {
    "name": "ipython",
    "version": 3
   },
   "file_extension": ".py",
   "mimetype": "text/x-python",
   "name": "python",
   "nbconvert_exporter": "python",
   "pygments_lexer": "ipython3",
   "version": "3.9.13"
  }
 },
 "nbformat": 4,
 "nbformat_minor": 5
}
